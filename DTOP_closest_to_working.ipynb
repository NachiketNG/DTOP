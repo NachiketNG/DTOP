{
 "cells": [
  {
   "cell_type": "code",
   "execution_count": 1,
   "id": "4c8ea3f1",
   "metadata": {},
   "outputs": [],
   "source": [
    "import numpy as np\n",
    "import matplotlib.pyplot as plt\n",
    "from tqdm.notebook import tqdm\n",
    "from scipy.signal import unit_impulse\n",
    "#from findiff import FinDiff\n",
    "#from sympy import symbols, solve"
   ]
  },
  {
   "cell_type": "code",
   "execution_count": 2,
   "id": "028f9e51",
   "metadata": {},
   "outputs": [],
   "source": [
    "def forward_difference(y , dx):\n",
    "    if len(y) == 1:\n",
    "        return 0\n",
    "    dydx = np.array(len(y)*[0.00])\n",
    "    for i in range(len(y)-1):\n",
    "        dydx[i] = (y[i+1] - y[i])/(dx)\n",
    "    \n",
    "    dydx[-1] = (y[-1] - y[-2])/(dx)\n",
    "    \n",
    "    return dydx\n",
    "        \n",
    "        "
   ]
  },
  {
   "cell_type": "code",
   "execution_count": 3,
   "id": "54f640e0",
   "metadata": {},
   "outputs": [],
   "source": [
    "def disc_deriv(x , y):\n",
    "    dy = np.array(len(y)*[0.00])\n",
    "    num_discs = 0 #number of jumps\n",
    "    size_jump = np.array([])  #size of the jump\n",
    "    index_jump = np.array([] , dtype = int) #index AFTER which jump occurs\n",
    "    \n",
    "    for i in range(len(y)-1):\n",
    "        dy[i] = (y[i+1] - y[i])\n",
    "        \n",
    "        if abs(dy[i]) >= np.pi:   #definining minimum size of a jump as pi\n",
    "            #print(\"jump spotted\")\n",
    "            num_discs = num_discs + 1\n",
    "            size_jump = np.append(size_jump , dy[i])\n",
    "            #print(size_jump)\n",
    "            index_jump = np.append(index_jump , i)\n",
    "        \n",
    "    \n",
    "            \n",
    "    #print(num_discs)\n",
    "    function_subsets = (num_discs + 1)*[0.00]  #each element of this list will have a piece of the piecewise input function\n",
    "    #print(len(function_subsets))\n",
    "    #print(index_jump)\n",
    "    \n",
    "    if num_discs == 0:\n",
    "        return y , 0\n",
    "    \n",
    "    starting_index = 0\n",
    "    \n",
    "    for i in range(len(function_subsets)-1):\n",
    "        function_subsets[i] = y[starting_index:index_jump[i]+1]\n",
    "        starting_index = index_jump[i]+1\n",
    "    function_subsets[-1] = y[starting_index:]\n",
    "\n",
    "    \n",
    "    return function_subsets , size_jump\n",
    "        \n",
    "        "
   ]
  },
  {
   "cell_type": "code",
   "execution_count": null,
   "id": "9d58a6a6",
   "metadata": {},
   "outputs": [],
   "source": []
  },
  {
   "cell_type": "code",
   "execution_count": 4,
   "id": "275d1659",
   "metadata": {},
   "outputs": [],
   "source": [
    "pi = np.pi"
   ]
  },
  {
   "cell_type": "code",
   "execution_count": 5,
   "id": "5131c49b",
   "metadata": {},
   "outputs": [],
   "source": [
    "\"\"\"Defining the template for the di and df vectors, in terms of a quenching parameter which perturbs the v and w values\"\"\"\n",
    "\n",
    "v_quench_param = 0.5\n",
    "w_quench_param = -0.5\n",
    "\n",
    "#N = 1000\n",
    "k = np.linspace(-pi , pi , 1001)\n",
    "kp = k[np.where(k==0)[0][0]:]\n",
    "kp_index = np.where(k==0)[0][0]\n",
    "dk = k[1]-k[0]\n",
    "t = np.linspace(0 , 30 , 1000)\n",
    "\n",
    "def v(quench = False):\n",
    "    v = 1\n",
    "    if quench:\n",
    "        return v + v_quench_param\n",
    "    else:\n",
    "        return v\n",
    "    \n",
    "def w(quench = False):\n",
    "    w = 1.5\n",
    "    if quench:\n",
    "        return w + w_quench_param\n",
    "    else:\n",
    "        return w\n"
   ]
  },
  {
   "cell_type": "code",
   "execution_count": 6,
   "id": "1c044e82",
   "metadata": {},
   "outputs": [],
   "source": [
    "\"\"\"Now constructing the actual di and df vectors\"\"\"\n",
    "\n",
    "di_list = len(k)*[0.0]\n",
    "df_list = len(k)*[0.0]\n",
    "\n",
    "for i in range(len(k)):\n",
    "    di_list[i] = [v() + w()*np.cos(k[i]) , w()*np.sin(k[i])]\n",
    "    df_list[i] = [v(quench=True) + w(quench=True)*np.cos(k[i]) , w(quench=True)*np.sin(k[i])]"
   ]
  },
  {
   "cell_type": "code",
   "execution_count": 7,
   "id": "b3434a28",
   "metadata": {},
   "outputs": [],
   "source": [
    "\"\"\"Converting the di and df lists to arrays for easy operation later\"\"\"\n",
    "\n",
    "di = np.array(di_list)\n",
    "df = np.array(df_list)"
   ]
  },
  {
   "cell_type": "code",
   "execution_count": 8,
   "id": "042c0949",
   "metadata": {},
   "outputs": [
    {
     "data": {
      "text/plain": [
       "0.5"
      ]
     },
     "execution_count": 8,
     "metadata": {},
     "output_type": "execute_result"
    }
   ],
   "source": [
    "v(quench=True) + w(quench=True)*np.cos(-pi)"
   ]
  },
  {
   "cell_type": "code",
   "execution_count": null,
   "id": "1287ae38",
   "metadata": {},
   "outputs": [],
   "source": []
  },
  {
   "cell_type": "code",
   "execution_count": 9,
   "id": "ef779d6e",
   "metadata": {},
   "outputs": [],
   "source": [
    "# #plt.plot(np.array(di)[:,0])\n",
    "# plt.plot(np.array(di_normed)[:,0])\n",
    "# #plt.ylim(0.99999 , 1.00001)"
   ]
  },
  {
   "cell_type": "code",
   "execution_count": 10,
   "id": "89aeabcb",
   "metadata": {},
   "outputs": [],
   "source": [
    "\"\"\"Normalizing the di and df vectors\"\"\"\n",
    "\n",
    "di_normed = np.zeros(np.shape(di))\n",
    "df_normed = np.zeros(np.shape(df))\n",
    "\n",
    "for i in range(len(di)):\n",
    "    di_normed[i] = ( 1/np.sqrt(np.sum(di[i]**2)) ) * di[i]\n",
    "    df_normed[i] = ( 1/np.sqrt(np.sum(df[i]**2)) ) * df[i]"
   ]
  },
  {
   "cell_type": "code",
   "execution_count": 11,
   "id": "f71d7400",
   "metadata": {},
   "outputs": [
    {
     "data": {
      "text/plain": [
       "Text(0.5, 1.0, 'Representation of d vectors in k-space')"
      ]
     },
     "execution_count": 11,
     "metadata": {},
     "output_type": "execute_result"
    },
    {
     "data": {
      "image/png": "[encoded data removed]",
      "text/plain": [
       "<Figure size 640x480 with 1 Axes>"
      ]
     },
     "metadata": {},
     "output_type": "display_data"
    }
   ],
   "source": [
    "plt.plot(df[:,0] , df[:,1] , label = r\"$d^f$\")\n",
    "plt.plot(di[:,0] , di[:,1] , label = r\"$d^i$\")\n",
    "plt.xlabel(r'$d_{x}$')\n",
    "plt.ylabel(r'$d_{y}$')\n",
    "plt.axvline(linewidth = '2' , color = 'black')\n",
    "plt.axhline(linewidth = '2' , color = 'black')\n",
    "# plt.xlim(-6,6)\n",
    "# plt.ylim(-6,6)\n",
    "plt.grid()\n",
    "plt.legend()\n",
    "plt.title(\"Representation of d vectors in k-space\")"
   ]
  },
  {
   "cell_type": "code",
   "execution_count": 12,
   "id": "5471bc47",
   "metadata": {},
   "outputs": [],
   "source": [
    "# df_normed"
   ]
  },
  {
   "cell_type": "code",
   "execution_count": 13,
   "id": "8b93c3b1",
   "metadata": {},
   "outputs": [],
   "source": [
    "# plt.plot(di_normed[:,0] , di_normed[:,1])\n",
    "# plt.plot(di[:,0] , di[:,1])\n",
    "# plt.grid()"
   ]
  },
  {
   "cell_type": "code",
   "execution_count": 14,
   "id": "5330ff6e",
   "metadata": {},
   "outputs": [],
   "source": [
    "\"\"\"defining cos(delta_k)\"\"\"\n",
    "\n",
    "cos_delta_k = np.array(len(k)*[0.00])\n",
    "\n",
    "for i in range(len(k)):\n",
    "    cos_delta_k[i] = np.dot(di_normed[i] , df_normed[i])"
   ]
  },
  {
   "cell_type": "code",
   "execution_count": 15,
   "id": "b740d5aa",
   "metadata": {},
   "outputs": [],
   "source": [
    "\"\"\"Defining the energies as a function of k (dispersion relation)\"\"\"\n",
    "\n",
    "Eik = np.array(len(k)*[0.00])\n",
    "Efk = np.array(len(k)*[0.00])\n",
    "\n",
    "for i in range(len(k)):\n",
    "    Eik[i] = np.sqrt(np.sum(di[i]**2)) \n",
    "    Efk[i] = np.sqrt(np.sum(df[i]**2)) \n"
   ]
  },
  {
   "cell_type": "code",
   "execution_count": 16,
   "id": "58ed0a1a",
   "metadata": {},
   "outputs": [],
   "source": [
    "\"\"\"Calculating the critical momentum and critical times\"\"\"\n",
    "\n",
    "Efkc_analytical = np.sqrt(v(quench=True)**2 + w(quench=True)**2 + 2*v(quench=True)*w(quench=True)*np.cos(2.957))\n",
    "\n",
    "tc_analytical = pi/(2*Efkc_analytical)  #tc assuming continuum limit\n",
    "\n",
    "index_of_kc = np.where(abs(cos_delta_k) == min(abs(cos_delta_k)))[0]\n",
    "\n",
    "tc = pi/(2*Efk[index_of_kc])[0]  #tc calculated for our discrete array"
   ]
  },
  {
   "cell_type": "code",
   "execution_count": 17,
   "id": "e8ef176c",
   "metadata": {},
   "outputs": [],
   "source": [
    "#tc/pi"
   ]
  },
  {
   "cell_type": "code",
   "execution_count": 18,
   "id": "b27bc8d4",
   "metadata": {},
   "outputs": [
    {
     "data": {
      "application/vnd.jupyter.widget-view+json": {
       "model_id": "55d65645e64247178264a5f75e51dfad",
       "version_major": 2,
       "version_minor": 0
      },
      "text/plain": [
       "  0%|          | 0/1000 [00:00<?, ?it/s]"
      ]
     },
     "metadata": {},
     "output_type": "display_data"
    },
    {
     "data": {
      "application/vnd.jupyter.widget-view+json": {
       "model_id": "026b38cc581643bab367d947c5f9e269",
       "version_major": 2,
       "version_minor": 0
      },
      "text/plain": [
       "  0%|          | 0/1000 [00:00<?, ?it/s]"
      ]
     },
     "metadata": {},
     "output_type": "display_data"
    }
   ],
   "source": [
    "\"\"\"Defining the Loschmidt amplitude and the Loschmidt return rate\"\"\"\n",
    "\n",
    "Gk = np.zeros((len(t) , len(k)) , dtype = complex)\n",
    "\n",
    "for i in tqdm(range(len(t))):\n",
    "    for k_val in range(len(k)):\n",
    "        Gk[i,k_val] = complex(np.cos(Efk[k_val]*t[i]) , -cos_delta_k[k_val]*np.sin(Efk[k_val]*t[i]))\n",
    "        \n",
    "LE_amp = np.array(len(t)*[1.00] , dtype = complex)\n",
    "\n",
    "for i in tqdm(range(len(t))):\n",
    "    for k_val in range(len(k)):\n",
    "        LE_amp[i] = LE_amp[i]*Gk[i][k_val]\n",
    "        \n",
    "rate = (-1/len(k))*np.real(np.log(np.abs(LE_amp)**2))"
   ]
  },
  {
   "cell_type": "code",
   "execution_count": null,
   "id": "a7c4f9cd",
   "metadata": {},
   "outputs": [],
   "source": []
  },
  {
   "cell_type": "code",
   "execution_count": null,
   "id": "ac203c20",
   "metadata": {},
   "outputs": [],
   "source": []
  },
  {
   "cell_type": "code",
   "execution_count": 19,
   "id": "e5f330cd",
   "metadata": {},
   "outputs": [],
   "source": [
    "# \"\"\"Defining the Loschmidt amplitude and the Loschmidt return rate\"\"\"\n",
    "\n",
    "# Gk = np.zeros((len(t) , len(k)) , dtype = complex)\n",
    "\n",
    "# for i in range(len(t)):\n",
    "#     for k_val in range(len(k)):\n",
    "#         Gk[i,k_val] = complex(np.cos(Efk[k_val]*t[i]) , -cos_delta_k[k_val]*np.sin(Efk[k_val]*t[i]))\n",
    "        \n",
    "# LE_amp = np.array(len(t)*[1.00] , dtype = complex)\n",
    "\n",
    "# for i in range(len(t)):\n",
    "#     for k_val in range(len(k)):\n",
    "#         LE_amp[i] = LE_amp[i]*Gk[i][k_val]\n",
    "        \n",
    "# rate = (-1/len(k))*np.real(np.log(np.abs(LE_amp)**2))"
   ]
  },
  {
   "cell_type": "code",
   "execution_count": 20,
   "id": "23e5c3d0",
   "metadata": {},
   "outputs": [],
   "source": [
    "def nearest_multiple_of_pi(phase):\n",
    "    if phase>=0:\n",
    "        return (phase//pi)*pi\n",
    "    else:\n",
    "        return ((phase//pi)+1)*pi\n",
    "        \n",
    "\n",
    "\n",
    "def make_periodic(phase):\n",
    "    if nearest_multiple_of_pi(phase) >= 0:\n",
    "        if (nearest_multiple_of_pi(phase)/pi)%2 == 0:\n",
    "            return (phase - nearest_multiple_of_pi(phase))\n",
    "        else:\n",
    "            return -(pi - (phase - nearest_multiple_of_pi(phase)))\n",
    "    else:\n",
    "        if (nearest_multiple_of_pi(phase)/pi)%2 == 0:\n",
    "            return (phase - nearest_multiple_of_pi(phase))\n",
    "        else:\n",
    "            return (pi + (phase - nearest_multiple_of_pi(phase)))\n",
    "        \n"
   ]
  },
  {
   "cell_type": "code",
   "execution_count": 21,
   "id": "e8500e66",
   "metadata": {},
   "outputs": [
    {
     "data": {
      "application/vnd.jupyter.widget-view+json": {
       "model_id": "517b7403a2044cea802b3ea01a2e023d",
       "version_major": 2,
       "version_minor": 0
      },
      "text/plain": [
       "  0%|          | 0/1000 [00:00<?, ?it/s]"
      ]
     },
     "metadata": {},
     "output_type": "display_data"
    },
    {
     "data": {
      "application/vnd.jupyter.widget-view+json": {
       "model_id": "9ae0e0381106420380270cbb5374f2d3",
       "version_major": 2,
       "version_minor": 0
      },
      "text/plain": [
       "  0%|          | 0/1000 [00:00<?, ?it/s]"
      ]
     },
     "metadata": {},
     "output_type": "display_data"
    }
   ],
   "source": [
    "\"\"\"Defining the Pancharatnam Geometric Phase (PGP) and dnu, where nu = DTOP\"\"\"\n",
    "\n",
    "PGP = np.zeros((len(t) , len(k)))\n",
    "phi_dyn = np.zeros((len(t) , len(k)))\n",
    "\n",
    "\n",
    "for i in tqdm(range(len(t))):\n",
    "    for k_val in range(len(k)):\n",
    "        phi_dyn[i,k_val] = np.angle(complex(np.cos(-Efk[k_val]*t[i]*cos_delta_k[k_val]) , np.sin(-Efk[k_val]*t[i]*cos_delta_k[k_val])))\n",
    "\n",
    "for i in tqdm(range(len(t))):  # i know i don't need to loop this, PGP = angle(Gk) - phi_dyn will suffice, will change later\n",
    "    for k_val in range(len(k)):\n",
    "        PGP[i,k_val] = make_periodic(np.angle(Gk[i,k_val]) - phi_dyn[i,k_val])\n",
    "\n",
    "\n",
    "\n",
    "\n",
    "    \n",
    "# d_dk = FinDiff(0,dk)\n",
    "\n",
    "# for i in range(len(t)):\n",
    "#     dnu[i] = d_dk(PGP[i])"
   ]
  },
  {
   "cell_type": "code",
   "execution_count": 22,
   "id": "b1cd557e",
   "metadata": {},
   "outputs": [],
   "source": [
    "# \"\"\"Defining the Pancharatnam Geometric Phase (PGP) and dnu, where nu = DTOP\"\"\"\n",
    "\n",
    "# PGP = np.zeros((len(t) , len(k)))\n",
    "# phi_dyn = np.zeros((len(t) , len(k)))\n",
    "\n",
    "\n",
    "# for i in tqdm(range(len(t))):\n",
    "#     for k_val in range(len(k)):\n",
    "#         phi_dyn[i,k_val] = np.angle(complex(np.cos(-Efk[k_val]*t[i]*cos_delta_k[k_val]) , np.sin(-Efk[k_val]*t[i]*cos_delta_k[k_val])))\n",
    "\n",
    "# for i in tqdm(range(len(t))):  # i know i don't need to loop this, PGP = angle(Gk) - phi_dyn will suffice, will change later\n",
    "#     for k_val in range(len(k)):\n",
    "#         PGP[i,k_val] = np.angle( complex( np.cos(np.angle(Gk[i,k_val]) - phi_dyn[i,k_val]) , np.sin(np.angle(Gk[i,k_val]) - phi_dyn[i,k_val]) )  )\n",
    "\n",
    "\n",
    "\n",
    "\n",
    "    \n",
    "# # d_dk = FinDiff(0,dk)\n",
    "\n",
    "# # for i in range(len(t)):\n",
    "# #     dnu[i] = d_dk(PGP[i])"
   ]
  },
  {
   "cell_type": "code",
   "execution_count": 23,
   "id": "5fbe8cc3",
   "metadata": {},
   "outputs": [],
   "source": [
    "PGP_in_EBZ = PGP[: , np.where(k==0)[0][0]:]"
   ]
  },
  {
   "cell_type": "code",
   "execution_count": 24,
   "id": "0658d97f",
   "metadata": {},
   "outputs": [],
   "source": [
    "# \"\"\"In the DTOP paper, the LE is defined as a product of Gk terms for k>0, which is inexplicable to me. Here I try it such \n",
    "# that each Gk, k>0 is a product of the k>0 and k<0 terms, and seeing if defining the PGP that way changes anything. \n",
    "# The full LE and hence the rate function are unchanged because I'm just regrouping the terms (so that k>0 and k<0 are bunched\n",
    "# together)\"\"\"\n",
    "\n",
    "# Gk_paper = np.zeros((len(t) , len(k)//2) , dtype = complex)\n",
    "\n",
    "# for i in range(len(t)):\n",
    "#     for k_val in range(len(k)//2):\n",
    "#         Gk_paper[i,k_val] = complex(np.cos(Efk[k_val]*t[i]) , -cos_delta_k[k_val]*np.sin(Efk[k_val]*t[i])) * complex(np.cos(Efk[-k_val]*t[i]) , -cos_delta_k[-k_val]*np.sin(Efk[-k_val]*t[i]))\n",
    "        \n",
    "# LE_amp_paper = np.array(len(t)*[1.00] , dtype = complex)\n",
    "\n",
    "# for i in range(len(t)):\n",
    "#     for k_val in range(len(k)//2):\n",
    "#         LE_amp_paper[i] = LE_amp_paper[i]*Gk_paper[i][k_val]\n",
    "        \n",
    "# rate_paper = (-1/len(k))*np.real(np.log(np.abs(LE_amp_paper)**2))\n",
    "\n",
    "\n",
    "# PGP_paper = np.zeros((len(t) , len(k)//2))\n",
    "# dnu_paper = np.zeros((len(t) , len(k)//2))\n",
    "\n",
    "# for i in range(len(t)):\n",
    "#     for k_val in range(len(k)//2):\n",
    "#         PGP_paper[i,k_val] = np.angle(Gk_paper[i,k_val]) - (Efk[k_val]*t[i]*cos_delta_k[k_val]%(2*pi)) #by theory this should be -Efk ? Check again later\n",
    "    \n",
    "\n",
    "# # for i in range(len(t)):\n",
    "# #     dnu[i] = np.gradient(PGP[i] , k)\n"
   ]
  },
  {
   "cell_type": "code",
   "execution_count": 25,
   "id": "af794f4a",
   "metadata": {},
   "outputs": [
    {
     "data": {
      "image/png": "[encoded data removed]",
      "text/plain": [
       "<Figure size 640x480 with 2 Axes>"
      ]
     },
     "metadata": {},
     "output_type": "display_data"
    }
   ],
   "source": [
    "#%matplotlib qt\n",
    "plt.pcolormesh(k/pi , t/tc , PGP , cmap = 'rainbow')\n",
    "plt.colorbar()\n",
    "#plt.grid()\n",
    "plt.xlabel(r'$k/\\pi$')\n",
    "plt.ylabel(r'$t/t_c$')\n",
    "# plt.clim(-8 , 0)\n",
    "# plt.ylabel('Frequency [Hz]')\n",
    "# plt.xlabel('Time [sec]')\n",
    "# plt.yscale('log')\n",
    "# #plt.xlim(10,95)\n",
    "# plt.ylim(10,4000)\n",
    "plt.xlim(0,1)\n",
    "plt.yticks([0,1,2,3,4,5,6,7,8,9,10,11,12])\n",
    "plt.grid()\n",
    "plt.show()\n"
   ]
  },
  {
   "cell_type": "code",
   "execution_count": 26,
   "id": "38be1d69",
   "metadata": {},
   "outputs": [
    {
     "data": {
      "text/plain": [
       "'ROUGH WORK'"
      ]
     },
     "execution_count": 26,
     "metadata": {},
     "output_type": "execute_result"
    }
   ],
   "source": [
    "\"\"\"ROUGH WORK\"\"\""
   ]
  },
  {
   "cell_type": "code",
   "execution_count": 27,
   "id": "961c2a2d",
   "metadata": {},
   "outputs": [],
   "source": [
    "# (dnu[1000,np.where(k==0)[0][0]:])"
   ]
  },
  {
   "cell_type": "code",
   "execution_count": 28,
   "id": "8b4df97c",
   "metadata": {},
   "outputs": [
    {
     "name": "stdout",
     "output_type": "stream",
     "text": [
      "[2.]\n"
     ]
    }
   ],
   "source": [
    "a = np.array([])\n",
    "b = np.append(a , 2)\n",
    "print(b)"
   ]
  },
  {
   "cell_type": "code",
   "execution_count": 29,
   "id": "227eb595",
   "metadata": {
    "scrolled": false
   },
   "outputs": [],
   "source": [
    "# # plt.plot(k/pi , np.gradient(PGP[1000]) , \".\")\n",
    "# # plt.xlabel(\"k/pi\")\n",
    "# # plt.ylabel(\"dnu at t[1000]\")\n",
    "\n",
    "# plt.figure()\n",
    "# plt.plot( PGP[38] , \".\")\n",
    "# #plt.xlabel(\"k/pi\")\n",
    "# plt.ylabel(\"PGP at t[1000]\")\n",
    "\n",
    "# # plt.figure()\n",
    "# # plt.plot(k/pi , np.angle(Gk[1000,:]) , \".\")\n",
    "# # plt.xlabel(\"k/pi\")\n",
    "# # plt.ylabel(\"Gk angle at t[1000]\")\n",
    "\n",
    "# # plt.figure()\n",
    "# # plt.plot(k/pi , phi_dyn[1000] , \".\")\n",
    "# # plt.xlabel(\"k/pi\")\n",
    "# # plt.ylabel(\"phi_dyn at t[1000]\")"
   ]
  },
  {
   "cell_type": "code",
   "execution_count": 30,
   "id": "210b37fd",
   "metadata": {},
   "outputs": [],
   "source": [
    "#plt.plot(PGP_in_EBZ[4000] , \".\")"
   ]
  },
  {
   "cell_type": "code",
   "execution_count": 31,
   "id": "f36bc326",
   "metadata": {},
   "outputs": [],
   "source": [
    "# np.sum(np.diff(PGP[40 , kp_index:]))"
   ]
  },
  {
   "cell_type": "code",
   "execution_count": 32,
   "id": "bc3bcbb5",
   "metadata": {},
   "outputs": [],
   "source": [
    "# plt.plot((PGP[1200 , kp_index:]) , \".\")"
   ]
  },
  {
   "cell_type": "code",
   "execution_count": 33,
   "id": "27ec852e",
   "metadata": {},
   "outputs": [],
   "source": [
    "# np.sum(np.diff((PGP[1500 , kp_index:])))"
   ]
  },
  {
   "cell_type": "code",
   "execution_count": 34,
   "id": "5c24875e",
   "metadata": {},
   "outputs": [],
   "source": [
    "# plt.plot((np.diff(PGP[400,kp_index:])) , \".\")\n",
    "# np.sum(np.diff(PGP[400,kp_index:]))"
   ]
  },
  {
   "cell_type": "code",
   "execution_count": 35,
   "id": "04b38450",
   "metadata": {},
   "outputs": [],
   "source": [
    "# plt.plot(PGP[400 , 0:250]//1)"
   ]
  },
  {
   "cell_type": "code",
   "execution_count": 36,
   "id": "7579792b",
   "metadata": {},
   "outputs": [],
   "source": [
    "# plt.plot(np.gradient(PGP[400 , np.where(k==0)[0][0]:]//1) , \".\")"
   ]
  },
  {
   "cell_type": "code",
   "execution_count": 37,
   "id": "5ad40239",
   "metadata": {},
   "outputs": [],
   "source": [
    "#np.sum(np.gradient(PGP[400 , np.where(k==0)[0][0]:]//1))"
   ]
  },
  {
   "cell_type": "code",
   "execution_count": 38,
   "id": "68222665",
   "metadata": {},
   "outputs": [],
   "source": [
    "# x = np.linspace(0,10, 1000)\n",
    "# y = np.linspace(0,1,1000)\n",
    "# pl = np.zeros((1000 , 1000))\n",
    "\n",
    "# for i in range(len(pl)):\n",
    "#     for j in range(len(pl[i])):\n",
    "#         pl[i,j] = x[i]*y[j]\n"
   ]
  },
  {
   "cell_type": "code",
   "execution_count": 39,
   "id": "8a397d87",
   "metadata": {},
   "outputs": [],
   "source": [
    "# plt.pcolormesh(y , x , pl)\n",
    "# plt.colorbar()"
   ]
  },
  {
   "cell_type": "code",
   "execution_count": 40,
   "id": "5dbb2d07",
   "metadata": {},
   "outputs": [],
   "source": [
    "#np.where(k==0)[0][0]"
   ]
  },
  {
   "cell_type": "code",
   "execution_count": 41,
   "id": "35f41359",
   "metadata": {},
   "outputs": [],
   "source": [
    "#plt.plot(k/pi,np.angle(Gk[2]))"
   ]
  },
  {
   "cell_type": "code",
   "execution_count": 42,
   "id": "6ac1be13",
   "metadata": {},
   "outputs": [],
   "source": [
    "#plt.plot(k/pi , np.arctan(cos_delta_k*np.tan(Efk*t[2])))"
   ]
  },
  {
   "cell_type": "code",
   "execution_count": 43,
   "id": "44543945",
   "metadata": {},
   "outputs": [],
   "source": [
    "#dnu_in_EBZ = dnu[: , np.where(k==0)[0][0]:]"
   ]
  },
  {
   "cell_type": "code",
   "execution_count": 44,
   "id": "f50d98c0",
   "metadata": {},
   "outputs": [
    {
     "data": {
      "text/plain": [
       "'END OF ROUGH WORK'"
      ]
     },
     "execution_count": 44,
     "metadata": {},
     "output_type": "execute_result"
    }
   ],
   "source": [
    "\"\"\"END OF ROUGH WORK\"\"\""
   ]
  },
  {
   "cell_type": "code",
   "execution_count": 33,
   "id": "10d88500",
   "metadata": {},
   "outputs": [],
   "source": [
    "pieces = len(PGP)*[0.00]\n",
    "jump_sizes = len(PGP)*[0.00]\n",
    "\n",
    "for i in range(len(PGP)):\n",
    "    #print(\"index = \",i)\n",
    "    pieces[i] , jump_sizes[i] = disc_deriv( k , PGP_in_EBZ[i] )"
   ]
  },
  {
   "cell_type": "code",
   "execution_count": null,
   "id": "628fae9c",
   "metadata": {},
   "outputs": [],
   "source": []
  },
  {
   "cell_type": "code",
   "execution_count": 34,
   "id": "2b6961d5",
   "metadata": {},
   "outputs": [],
   "source": [
    "# if jump_sizes[800] == 0:\n",
    "#     print(\"hi\")"
   ]
  },
  {
   "cell_type": "code",
   "execution_count": 35,
   "id": "5e6e7122",
   "metadata": {},
   "outputs": [],
   "source": [
    "dnu = len(PGP)*[0.00]\n",
    "\n",
    "for i in range(len(dnu)):\n",
    "    if not np.shape(jump_sizes[i]): #if there is no jump...\n",
    "        dnu[i] = forward_difference(pieces[i] , dk)\n",
    "        \n",
    "    else:  #if there is a nonzero number of jumps\n",
    "        dnu[i] = [forward_difference(arr , dk) for arr in pieces[i]]\n",
    "        \n",
    "        "
   ]
  },
  {
   "cell_type": "code",
   "execution_count": 36,
   "id": "e7692ed8",
   "metadata": {},
   "outputs": [],
   "source": [
    "nu = len(PGP)*[0.00]\n",
    "\n",
    "for i in range(len(nu)):\n",
    "    if not np.shape(jump_sizes[i]): #if there is no jump...\n",
    "        nu[i] = (1/(2*pi))*np.trapz(pieces[i] , dx = dk)\n",
    "        \n",
    "    else:  #if there is a nonzero number of jumps\n",
    "        nu[i] = (1/(2*pi))*(np.sum([np.trapz(arr , dx = dk) for arr in pieces[i]]) + np.sum(jump_sizes[i]))"
   ]
  },
  {
   "cell_type": "code",
   "execution_count": 37,
   "id": "12683421",
   "metadata": {},
   "outputs": [
    {
     "data": {
      "text/plain": [
       "-1.3470948975063877"
      ]
     },
     "execution_count": 37,
     "metadata": {},
     "output_type": "execute_result"
    }
   ],
   "source": [
    "np.sum([np.trapz(arr , dx = dk) for arr in pieces[300]])"
   ]
  },
  {
   "cell_type": "code",
   "execution_count": 38,
   "id": "a8f3c12e",
   "metadata": {},
   "outputs": [
    {
     "data": {
      "text/plain": [
       "([<matplotlib.axis.XTick at 0x1ae425a8880>,\n",
       "  <matplotlib.axis.XTick at 0x1ae425a8850>,\n",
       "  <matplotlib.axis.XTick at 0x1ae425a34f0>,\n",
       "  <matplotlib.axis.XTick at 0x1ae425d73a0>],\n",
       " [Text(0, 0, ''), Text(0, 0, ''), Text(0, 0, ''), Text(0, 0, '')])"
      ]
     },
     "execution_count": 38,
     "metadata": {},
     "output_type": "execute_result"
    },
    {
     "data": {
      "image/png": "[encoded data removed]",
      "text/plain": [
       "<Figure size 640x480 with 1 Axes>"
      ]
     },
     "metadata": {},
     "output_type": "display_data"
    }
   ],
   "source": [
    "plt.plot(t/tc , nu)\n",
    "plt.xticks([1,3,5,7])"
   ]
  },
  {
   "cell_type": "code",
   "execution_count": 36,
   "id": "a96d61a0",
   "metadata": {},
   "outputs": [],
   "source": [
    "# plt.plot(PGP_in_EBZ[1077][2160:2200] , \".\")\n",
    "# plt.figure()\n",
    "# plt.plot(PGP_in_EBZ[1077] , \".\")\n",
    "# print(t[1077]/tc)\n",
    "# print(jump_sizes[1077])"
   ]
  },
  {
   "cell_type": "code",
   "execution_count": 37,
   "id": "0b4af432",
   "metadata": {},
   "outputs": [],
   "source": [
    "# a = [1,2,3]\n",
    "# b = [9,8,7]\n",
    "\n",
    "# c = [[1,2,3] , [4,5,6]]\n",
    "# np.concatenate(c)"
   ]
  },
  {
   "cell_type": "code",
   "execution_count": 38,
   "id": "0e807a31",
   "metadata": {},
   "outputs": [],
   "source": [
    "# \"\"\"Now defining nu =  integral from k = 0 to pi of dnu\"\"\"\n",
    "\n",
    "# dnu = np.zeros((len(t) , len(k)))\n",
    "\n",
    "# # d_dk = FinDiff(0,dk)\n",
    "\n",
    "# # for i in range(len(t)):\n",
    "# #     dnu[i] = d_dk(PGP[i])\n",
    "\n",
    "# for i in range(len(t)):\n",
    "#     dnu[i] = forward_difference(PGP[i] , dk)\n",
    "    \n",
    "# dnu_in_EBZ = dnu[: , np.where(k==0)[0][0]:]\n",
    "\n",
    "# # for i in range(len(t)):\n",
    "# #     dnu[i] = np.gradient(PGP[i] , k)\n",
    "\n",
    "# nu = np.array(len(t)*[0.00])\n",
    "\n",
    "# for i in range(len(t)):\n",
    "#     nu[i] = (1/2*pi)*np.trapz(dnu_in_EBZ[i] , dx = dk)\n",
    "    "
   ]
  },
  {
   "cell_type": "code",
   "execution_count": 39,
   "id": "519d5904",
   "metadata": {},
   "outputs": [],
   "source": [
    "# \"\"\"Now defining nu =  integral from k = 0 to pi of dnu\"\"\"\n",
    "\n",
    "# for i in range(len(t)):\n",
    "#     dnu[i] = np.gradient(PGP[i] , k)\n",
    "\n",
    "# nu = np.array(len(t)*[0.00])\n",
    "\n",
    "# for i in range(len(t)):\n",
    "#     nu[i] = (1/2*pi)*np.trapz(dnu_in_EBZ[i] , dx = dk)\n",
    "    "
   ]
  },
  {
   "cell_type": "code",
   "execution_count": 40,
   "id": "1d222a9f",
   "metadata": {},
   "outputs": [],
   "source": [
    "# np.trapz(dnu_in_EBZ[100] , dx = dk)"
   ]
  },
  {
   "cell_type": "code",
   "execution_count": 41,
   "id": "0687aa4e",
   "metadata": {},
   "outputs": [],
   "source": [
    "# np.sum(dnu_in_EBZ[100]*dk)"
   ]
  },
  {
   "cell_type": "code",
   "execution_count": 42,
   "id": "cf7b8210",
   "metadata": {},
   "outputs": [],
   "source": [
    "# sum(dnu_in_EBZ[100])"
   ]
  },
  {
   "cell_type": "code",
   "execution_count": 43,
   "id": "9036dfbd",
   "metadata": {},
   "outputs": [],
   "source": [
    "# sum(sorted(dnu_in_EBZ[100])[:30])"
   ]
  },
  {
   "cell_type": "code",
   "execution_count": 61,
   "id": "6d2f45bc",
   "metadata": {},
   "outputs": [],
   "source": [
    "# test = np.array(len(PGP[1000])*[0.00])\n",
    "\n",
    "# for i in range(len(PGP[1000])-1):\n",
    "#     test[i] = (PGP[1000,i+1]-PGP[1000,i])/dk\n",
    "# test[-1] = test[-2]\n",
    "    \n",
    "# plt.plot(test[np.where(k==0)[0][0]:] , \".\")\n",
    "# plt.ylim(-100,100)    \n"
   ]
  },
  {
   "cell_type": "code",
   "execution_count": 62,
   "id": "1eefb4bc",
   "metadata": {},
   "outputs": [],
   "source": [
    "#sorted(test[500:])"
   ]
  },
  {
   "cell_type": "code",
   "execution_count": 63,
   "id": "5858df63",
   "metadata": {},
   "outputs": [],
   "source": [
    "# plt.plot(k[np.where(k==0)[0][0]:] , dnu_in_EBZ[1000] , \"x\")\n",
    "# #plt.ylim(-20,20)"
   ]
  },
  {
   "cell_type": "code",
   "execution_count": 64,
   "id": "7535823a",
   "metadata": {},
   "outputs": [],
   "source": [
    "# dk = k[1]-k[0]"
   ]
  },
  {
   "cell_type": "code",
   "execution_count": 65,
   "id": "5648fc35",
   "metadata": {},
   "outputs": [],
   "source": [
    "# # plt.plot(k , dnu[800])\n",
    "# # plt.figure()\n",
    "# plt.plot(k/pi , PGP[970] , \".\")\n",
    "# plt.xlim(0,1)"
   ]
  },
  {
   "cell_type": "code",
   "execution_count": 66,
   "id": "b50e2eeb",
   "metadata": {},
   "outputs": [],
   "source": [
    "# np.where(t>tc)"
   ]
  },
  {
   "cell_type": "code",
   "execution_count": 39,
   "id": "11fdbbcd",
   "metadata": {},
   "outputs": [
    {
     "data": {
      "text/plain": [
       "Text(0.5, 0, 'Time')"
      ]
     },
     "execution_count": 39,
     "metadata": {},
     "output_type": "execute_result"
    },
    {
     "data": {
      "image/png": "[encoded data removed]",
      "text/plain": [
       "<Figure size 640x480 with 1 Axes>"
      ]
     },
     "metadata": {},
     "output_type": "display_data"
    },
    {
     "data": {
      "image/png": "[encoded data removed]",
      "text/plain": [
       "<Figure size 640x480 with 1 Axes>"
      ]
     },
     "metadata": {},
     "output_type": "display_data"
    }
   ],
   "source": [
    "plt.plot(t/tc , nu)\n",
    "plt.ylabel(r'$\\nu_{D}(t)$')\n",
    "plt.xlabel('Time')\n",
    "plt.grid()\n",
    "# plt.xlim(0,1)\n",
    "# plt.ylim(0,40)\n",
    "#plt.axvline(tc)\n",
    "plt.title(\"DTOP\")\n",
    "plt.axvline(tc , color='red')\n",
    "#plt.ylim(-2,2)\n",
    "plt.savefig(\"DTOP_plot.png\")\n",
    "\n",
    "plt.figure()\n",
    "plt.plot(t,rate)\n",
    "plt.grid()\n",
    "plt.axvline(tc , color='red')\n",
    "plt.axvline(3*tc , color='red')\n",
    "plt.axvline(5*tc , color='red')\n",
    "plt.axvline(7*tc , color='red')\n",
    "plt.xticks([tc , 3*tc , 5*tc , 7*tc] , [r'$t_c$' , r'$3t_c$' , r'$5t_c$' , r'$7t_c$'])\n",
    "plt.title(\"Loschmidt Return Rate g(t)\")\n",
    "plt.ylabel(r'$g(t)$')\n",
    "plt.xlabel('Time')\n",
    "\n",
    "\n",
    "#plt.ylim(0,2)\n",
    "#plt.xlim(0,1)"
   ]
  },
  {
   "cell_type": "code",
   "execution_count": null,
   "id": "974979ba",
   "metadata": {},
   "outputs": [],
   "source": [
    "\"\"\"Rough work begins here\"\"\""
   ]
  },
  {
   "cell_type": "code",
   "execution_count": 55,
   "id": "42f55aba",
   "metadata": {},
   "outputs": [
    {
     "data": {
      "text/plain": [
       "[<matplotlib.lines.Line2D at 0x227649a2c40>]"
      ]
     },
     "execution_count": 55,
     "metadata": {},
     "output_type": "execute_result"
    },
    {
     "data": {
      "image/png": "[encoded data removed]",
      "text/plain": [
       "<Figure size 640x480 with 1 Axes>"
      ]
     },
     "metadata": {},
     "output_type": "display_data"
    }
   ],
   "source": [
    "plt.plot(rate[100:250])"
   ]
  },
  {
   "cell_type": "code",
   "execution_count": 54,
   "id": "724ff5af",
   "metadata": {},
   "outputs": [
    {
     "name": "stdout",
     "output_type": "stream",
     "text": [
      "[0.31991641 0.32271724 0.32551842 0.32832107 0.33112621 0.33393479\n",
      " 0.33674766 0.33956558 0.34238921 0.34521912 0.3480558  0.35089962\n",
      " 0.3537509  0.35660982 0.35947652 0.36235103 0.36523329 0.36812315\n",
      " 0.37099482        inf        inf        inf        inf        inf\n",
      "        inf        inf        inf        inf        inf        inf\n",
      "        inf        inf        inf        inf        inf        inf\n",
      "        inf        inf        inf        inf        inf        inf\n",
      "        inf        inf        inf        inf        inf        inf\n",
      "        inf        inf        inf        inf        inf        inf\n",
      "        inf        inf        inf        inf        inf        inf\n",
      "        inf        inf        inf        inf        inf 0.37203402\n",
      " 0.36609219 0.36038095 0.35477904 0.34928472 0.34389632 0.33861222\n",
      " 0.33343091 0.32835089 0.32337075 0.31848913 0.31370469 0.30901616\n",
      " 0.3044223  0.29992189 0.29551377 0.29119676 0.28696975 0.28283162\n",
      " 0.27878127 0.27481762 0.27093957 0.26714606 0.26343602 0.25980838\n",
      " 0.25626206 0.25279599 0.24940908 0.24610025 0.24286839 0.23971239\n",
      " 0.23663115 0.23362351 0.23068836 0.22782451]\n"
     ]
    }
   ],
   "source": [
    "print(rate[100:200])"
   ]
  },
  {
   "cell_type": "code",
   "execution_count": 56,
   "id": "40018aba",
   "metadata": {},
   "outputs": [
    {
     "data": {
      "text/plain": [
       "Text(0, 0.5, '$\\\\cos(\\\\Delta_k)$')"
      ]
     },
     "execution_count": 56,
     "metadata": {},
     "output_type": "execute_result"
    },
    {
     "data": {
      "image/png": "[encoded data removed]",
      "text/plain": [
       "<Figure size 640x480 with 1 Axes>"
      ]
     },
     "metadata": {},
     "output_type": "display_data"
    }
   ],
   "source": [
    "plt.plot(k , cos_delta_k)\n",
    "plt.grid()\n",
    "plt.xlabel(\"k\")\n",
    "plt.ylabel(r'$\\cos(\\Delta_k)$')"
   ]
  },
  {
   "cell_type": "code",
   "execution_count": 23,
   "id": "7dac3546",
   "metadata": {},
   "outputs": [
    {
     "data": {
      "text/plain": [
       "Text(0.5, 0, 'k')"
      ]
     },
     "execution_count": 23,
     "metadata": {},
     "output_type": "execute_result"
    },
    {
     "data": {
      "image/png": "[encoded data removed]",
      "text/plain": [
       "<Figure size 640x480 with 1 Axes>"
      ]
     },
     "metadata": {},
     "output_type": "display_data"
    }
   ],
   "source": [
    "plt.plot(k , Efk)\n",
    "plt.grid()\n",
    "plt.ylabel(r'$E^f_k$')\n",
    "plt.xlabel('k')"
   ]
  },
  {
   "cell_type": "code",
   "execution_count": 24,
   "id": "cd89c6fd",
   "metadata": {},
   "outputs": [
    {
     "data": {
      "text/plain": [
       "(array([970], dtype=int64),)"
      ]
     },
     "execution_count": 24,
     "metadata": {},
     "output_type": "execute_result"
    }
   ],
   "source": [
    "np.where(abs(cos_delta_k) == min(abs(cos_delta_k)))"
   ]
  },
  {
   "cell_type": "code",
   "execution_count": null,
   "id": "3db936f0",
   "metadata": {},
   "outputs": [],
   "source": []
  },
  {
   "cell_type": "code",
   "execution_count": 25,
   "id": "12d4de97",
   "metadata": {},
   "outputs": [
    {
     "data": {
      "text/plain": [
       "0.5503952748112202"
      ]
     },
     "execution_count": 25,
     "metadata": {},
     "output_type": "execute_result"
    }
   ],
   "source": [
    "pi/(2*Efk[25])"
   ]
  },
  {
   "cell_type": "code",
   "execution_count": 21,
   "id": "d047611a",
   "metadata": {},
   "outputs": [],
   "source": []
  },
  {
   "cell_type": "code",
   "execution_count": 22,
   "id": "133ed9f3",
   "metadata": {},
   "outputs": [],
   "source": []
  },
  {
   "cell_type": "code",
   "execution_count": 23,
   "id": "656640b7",
   "metadata": {},
   "outputs": [],
   "source": []
  },
  {
   "cell_type": "code",
   "execution_count": null,
   "id": "f7000962",
   "metadata": {},
   "outputs": [],
   "source": []
  },
  {
   "cell_type": "code",
   "execution_count": null,
   "id": "a4bc55e0",
   "metadata": {},
   "outputs": [],
   "source": []
  },
  {
   "cell_type": "code",
   "execution_count": null,
   "id": "6019f06f",
   "metadata": {},
   "outputs": [],
   "source": []
  },
  {
   "cell_type": "code",
   "execution_count": null,
   "id": "b952948c",
   "metadata": {},
   "outputs": [],
   "source": []
  },
  {
   "cell_type": "code",
   "execution_count": null,
   "id": "93d46fa4",
   "metadata": {},
   "outputs": [],
   "source": []
  },
  {
   "cell_type": "code",
   "execution_count": null,
   "id": "689862aa",
   "metadata": {},
   "outputs": [],
   "source": []
  },
  {
   "cell_type": "code",
   "execution_count": null,
   "id": "5cf50f52",
   "metadata": {},
   "outputs": [],
   "source": []
  },
  {
   "cell_type": "code",
   "execution_count": null,
   "id": "d860c1f0",
   "metadata": {},
   "outputs": [],
   "source": []
  },
  {
   "cell_type": "code",
   "execution_count": 200,
   "id": "1807525b",
   "metadata": {},
   "outputs": [
    {
     "data": {
      "text/plain": [
       "0.33333333270931587"
      ]
     },
     "execution_count": 200,
     "metadata": {},
     "output_type": "execute_result"
    }
   ],
   "source": [
    "np.sqrt(1.95928417e-01**2 +  2.69672331e-01**2)"
   ]
  },
  {
   "cell_type": "code",
   "execution_count": 201,
   "id": "b2171de0",
   "metadata": {
    "collapsed": true
   },
   "outputs": [
    {
     "data": {
      "text/plain": [
       "array([ 1.        ,  1.00308073,  1.01226654,  1.02739334,  1.04820337,\n",
       "        1.07436563,  1.10549922,  1.14119614,  1.18104136,  1.22462853,\n",
       "        1.27157127,  1.32151029,  1.37411709,  1.42909513,  1.48617921,\n",
       "        1.54513381,  1.60575071,  1.66784641,  1.73125948,  1.79584799,\n",
       "        1.86148718,  1.92806727,  1.99549159,  2.06367485,  2.1325417 ,\n",
       "        2.20202541,  2.27206675,  2.34261306,  2.41361741,  2.48503784,\n",
       "        2.55683677,  2.62898048,  2.70143859,  2.77418373,  2.84719112,\n",
       "        2.92043832,  2.99390493,  3.06757239,  3.14142376,  3.21544355,\n",
       "        3.28961755,  3.36393273,  3.43837709,  3.51293957,  3.58760995,\n",
       "        3.66237876,  3.73723722,  3.81217718,  3.88719106,  3.96227176,\n",
       "        4.03741267,  4.1126076 ,  4.18785075,  4.26313666,  4.33846021,\n",
       "        4.41381657,  4.48920119,  4.56460974,  4.64003816,  4.71548258,\n",
       "        4.79093933,  4.86640492,  4.94187603,  5.01734949,  5.09282228,\n",
       "        5.16829151,  5.24375441,  5.31920833,  5.39465072,  5.47007913,\n",
       "        5.54549123,  5.62088473,  5.69625745,  5.77160729,  5.84693221,\n",
       "        5.92223023,  5.99749944,  6.072738  ,  6.14794411,  6.22311602,\n",
       "        6.29825203,  6.37335051,  6.44840983,  6.52342844,  6.5984048 ,\n",
       "        6.67333743,  6.74822486,  6.82306567,  6.89785847,  6.97260189,\n",
       "        7.04729459,  7.12193525,  7.1965226 ,  7.27105536,  7.3455323 ,\n",
       "        7.41995219,  7.49431383,  7.56861605,  7.64285767,  7.71703756,\n",
       "        7.79115458,  7.86520762,  7.93919559,  8.01311739,  8.08697196,\n",
       "        8.16075825,  8.2344752 ,  8.3081218 ,  8.381697  ,  8.45519982,\n",
       "        8.52862924,  8.60198429,  8.67526398,  8.74846735,  8.82159343,\n",
       "        8.89464127,  8.96760994,  9.04049849,  9.113306  ,  9.18603156,\n",
       "        9.25867424,  9.33123316,  9.40370739,  9.47609607,  9.5483983 ,\n",
       "        9.6206132 ,  9.6927399 ,  9.76477753,  9.83672524,  9.90858216,\n",
       "        9.98034744, 10.05202024, 10.12359972, 10.19508504, 10.26647538,\n",
       "       10.33776989, 10.40896777, 10.48006818, 10.55107033, 10.6219734 ,\n",
       "       10.69277658, 10.76347907, 10.83408007, 10.90457879, 10.97497444,\n",
       "       11.04526623, 11.11545338, 11.1855351 , 11.25551062, 11.32537917,\n",
       "       11.39513997, 11.46479226, 11.53433527, 11.60376824, 11.67309041,\n",
       "       11.74230103, 11.81139934, 11.8803846 , 11.94925605, 12.01801295,\n",
       "       12.08665457, 12.15518016, 12.22358898, 12.2918803 , 12.36005339,\n",
       "       12.42810753, 12.49604197, 12.56385601, 12.63154891, 12.69911996,\n",
       "       12.76656845, 12.83389365, 12.90109486, 12.96817136, 13.03512245,\n",
       "       13.10194742, 13.16864557, 13.2352162 , 13.3016586 , 13.36797209,\n",
       "       13.43415596, 13.50020952, 13.56613209, 13.63192298, 13.69758149,\n",
       "       13.76310695, 13.82849867, 13.89375598, 13.95887819, 14.02386462,\n",
       "       14.08871461, 14.15342748, 14.21800257, 14.28243919, 14.3467367 ,\n",
       "       14.41089442, 14.47491168, 14.53878784, 14.60252223, 14.6661142 ,\n",
       "       14.72956308, 14.79286824, 14.85602901, 14.91904475, 14.98191481,\n",
       "       15.04463855, 15.10721532, 15.16964449, 15.2319254 , 15.29405743,\n",
       "       15.35603994, 15.4178723 , 15.47955387, 15.54108402, 15.60246213,\n",
       "       15.66368756, 15.7247597 , 15.78567793, 15.84644161, 15.90705014,\n",
       "       15.96750289, 16.02779925, 16.08793861, 16.14792035, 16.20774386,\n",
       "       16.26740855, 16.3269138 , 16.386259  , 16.44544356, 16.50446687,\n",
       "       16.56332834, 16.62202737, 16.68056336, 16.73893573, 16.79714387,\n",
       "       16.85518721, 16.91306515, 16.97077711, 17.0283225 , 17.08570075,\n",
       "       17.14291126, 17.19995348, 17.25682681, 17.31353068, 17.37006452,\n",
       "       17.42642777, 17.48261985, 17.53864019, 17.59448823, 17.65016341,\n",
       "       17.70566516, 17.76099293, 17.81614616, 17.87112429, 17.92592677,\n",
       "       17.98055304, 18.03500257, 18.08927479, 18.14336916, 18.19728514,\n",
       "       18.25102219, 18.30457977, 18.35795733, 18.41115434, 18.46417027,\n",
       "       18.51700458, 18.56965674, 18.62212623, 18.67441251, 18.72651507,\n",
       "       18.77843337, 18.8301669 , 18.88171513, 18.93307756, 18.98425366,\n",
       "       19.03524292, 19.08604483, 19.13665888, 19.18708456, 19.23732137,\n",
       "       19.28736881, 19.33722636, 19.38689354, 19.43636984, 19.48565477,\n",
       "       19.53474784, 19.58364854, 19.6323564 , 19.68087093, 19.72919163,\n",
       "       19.77731804, 19.82524965, 19.872986  , 19.9205266 , 19.96787099,\n",
       "       20.01501868, 20.06196921, 20.1087221 , 20.15527689, 20.20163312,\n",
       "       20.24779031, 20.29374801, 20.33950575, 20.38506309, 20.43041955,\n",
       "       20.4755747 , 20.52052808, 20.56527924, 20.60982774, 20.65417312,\n",
       "       20.69831494, 20.74225277, 20.78598617, 20.82951469, 20.87283791,\n",
       "       20.91595538, 20.95886669, 21.0015714 , 21.04406908, 21.08635931,\n",
       "       21.12844168, 21.17031575, 21.21198111, 21.25343734, 21.29468404,\n",
       "       21.33572079, 21.37654717, 21.41716279, 21.45756723, 21.4977601 ,\n",
       "       21.53774099, 21.57750951, 21.61706525, 21.65640783, 21.69553684,\n",
       "       21.73445191, 21.77315264, 21.81163864, 21.84990954, 21.88796495,\n",
       "       21.92580449, 21.96342778, 22.00083445, 22.03802413, 22.07499644,\n",
       "       22.11175102, 22.14828751, 22.18460552, 22.22070472, 22.25658472,\n",
       "       22.29224519, 22.32768575, 22.36290607, 22.39790578, 22.43268454,\n",
       "       22.467242  , 22.50157782, 22.53569166, 22.56958318, 22.60325203,\n",
       "       22.63669789, 22.66992041, 22.70291928, 22.73569416, 22.76824472,\n",
       "       22.80057064, 22.8326716 , 22.86454728, 22.89619736, 22.92762152,\n",
       "       22.95881946, 22.98979086, 23.02053542, 23.05105282, 23.08134277,\n",
       "       23.11140496, 23.1412391 , 23.17084488, 23.20022201, 23.2293702 ,\n",
       "       23.25828916, 23.28697861, 23.31543825, 23.3436678 , 23.37166698,\n",
       "       23.39943552, 23.42697314, 23.45427955, 23.4813545 , 23.50819771,\n",
       "       23.53480892, 23.56118785, 23.58733425, 23.61324786, 23.63892842,\n",
       "       23.66437567, 23.68958937, 23.71456925, 23.73931507, 23.76382659,\n",
       "       23.78810356, 23.81214574, 23.8359529 , 23.85952478, 23.88286117,\n",
       "       23.90596182, 23.92882651, 23.95145501, 23.9738471 , 23.99600255,\n",
       "       24.01792114, 24.03960265, 24.06104687, 24.08225359, 24.10322259,\n",
       "       24.12395367, 24.14444662, 24.16470123, 24.18471731, 24.20449466,\n",
       "       24.22403307, 24.24333235, 24.26239232, 24.28121279, 24.29979356,\n",
       "       24.31813445, 24.33623527, 24.35409586, 24.37171603, 24.38909561,\n",
       "       24.40623442, 24.42313229, 24.43978905, 24.45620455, 24.47237861,\n",
       "       24.48831108, 24.50400179, 24.5194506 , 24.53465734, 24.54962187,\n",
       "       24.56434404, 24.5788237 , 24.59306071, 24.60705492, 24.62080619,\n",
       "       24.6343144 , 24.64757941, 24.66060107, 24.67337928, 24.68591389,\n",
       "       24.69820478, 24.71025183, 24.72205493, 24.73361394, 24.74492877,\n",
       "       24.75599929, 24.7668254 , 24.77740699, 24.78774395, 24.79783618,\n",
       "       24.80768359, 24.81728606, 24.82664351, 24.83575585, 24.84462298,\n",
       "       24.85324482, 24.86162127, 24.86975226, 24.87763771, 24.88527754,\n",
       "       24.89267166, 24.89982002, 24.90672253, 24.91337913, 24.91978975,\n",
       "       24.92595433, 24.93187281, 24.93754513, 24.94297123, 24.94815105,\n",
       "       24.95308456, 24.95777169, 24.9622124 , 24.96640665, 24.97035439,\n",
       "       24.97405559, 24.97751021, 24.98071822, 24.98367957, 24.98639426,\n",
       "       24.98886223, 24.99108348, 24.99305798, 24.99478571, 24.99626666,\n",
       "       24.9975008 , 24.99848813, 24.99922863, 24.99972231, 24.99996915,\n",
       "       24.99996915, 24.99972231, 24.99922863, 24.99848813, 24.9975008 ,\n",
       "       24.99626666, 24.99478571, 24.99305798, 24.99108348, 24.98886223,\n",
       "       24.98639426, 24.98367957, 24.98071822, 24.97751021, 24.97405559,\n",
       "       24.97035439, 24.96640665, 24.9622124 , 24.95777169, 24.95308456,\n",
       "       24.94815105, 24.94297123, 24.93754513, 24.93187281, 24.92595433,\n",
       "       24.91978975, 24.91337913, 24.90672253, 24.89982002, 24.89267166,\n",
       "       24.88527754, 24.87763771, 24.86975226, 24.86162127, 24.85324482,\n",
       "       24.84462298, 24.83575585, 24.82664351, 24.81728606, 24.80768359,\n",
       "       24.79783618, 24.78774395, 24.77740699, 24.7668254 , 24.75599929,\n",
       "       24.74492877, 24.73361394, 24.72205493, 24.71025183, 24.69820478,\n",
       "       24.68591389, 24.67337928, 24.66060107, 24.64757941, 24.6343144 ,\n",
       "       24.62080619, 24.60705492, 24.59306071, 24.5788237 , 24.56434404,\n",
       "       24.54962187, 24.53465734, 24.5194506 , 24.50400179, 24.48831108,\n",
       "       24.47237861, 24.45620455, 24.43978905, 24.42313229, 24.40623442,\n",
       "       24.38909561, 24.37171603, 24.35409586, 24.33623527, 24.31813445,\n",
       "       24.29979356, 24.28121279, 24.26239232, 24.24333235, 24.22403307,\n",
       "       24.20449466, 24.18471731, 24.16470123, 24.14444662, 24.12395367,\n",
       "       24.10322259, 24.08225359, 24.06104687, 24.03960265, 24.01792114,\n",
       "       23.99600255, 23.9738471 , 23.95145501, 23.92882651, 23.90596182,\n",
       "       23.88286117, 23.85952478, 23.8359529 , 23.81214574, 23.78810356,\n",
       "       23.76382659, 23.73931507, 23.71456925, 23.68958937, 23.66437567,\n",
       "       23.63892842, 23.61324786, 23.58733425, 23.56118785, 23.53480892,\n",
       "       23.50819771, 23.4813545 , 23.45427955, 23.42697314, 23.39943552,\n",
       "       23.37166698, 23.3436678 , 23.31543825, 23.28697861, 23.25828916,\n",
       "       23.2293702 , 23.20022201, 23.17084488, 23.1412391 , 23.11140496,\n",
       "       23.08134277, 23.05105282, 23.02053542, 22.98979086, 22.95881946,\n",
       "       22.92762152, 22.89619736, 22.86454728, 22.8326716 , 22.80057064,\n",
       "       22.76824472, 22.73569416, 22.70291928, 22.66992041, 22.63669789,\n",
       "       22.60325203, 22.56958318, 22.53569166, 22.50157782, 22.467242  ,\n",
       "       22.43268454, 22.39790578, 22.36290607, 22.32768575, 22.29224519,\n",
       "       22.25658472, 22.22070472, 22.18460552, 22.14828751, 22.11175102,\n",
       "       22.07499644, 22.03802413, 22.00083445, 21.96342778, 21.92580449,\n",
       "       21.88796495, 21.84990954, 21.81163864, 21.77315264, 21.73445191,\n",
       "       21.69553684, 21.65640783, 21.61706525, 21.57750951, 21.53774099,\n",
       "       21.4977601 , 21.45756723, 21.41716279, 21.37654717, 21.33572079,\n",
       "       21.29468404, 21.25343734, 21.21198111, 21.17031575, 21.12844168,\n",
       "       21.08635931, 21.04406908, 21.0015714 , 20.95886669, 20.91595538,\n",
       "       20.87283791, 20.82951469, 20.78598617, 20.74225277, 20.69831494,\n",
       "       20.65417312, 20.60982774, 20.56527924, 20.52052808, 20.4755747 ,\n",
       "       20.43041955, 20.38506309, 20.33950575, 20.29374801, 20.24779031,\n",
       "       20.20163312, 20.15527689, 20.1087221 , 20.06196921, 20.01501868,\n",
       "       19.96787099, 19.9205266 , 19.872986  , 19.82524965, 19.77731804,\n",
       "       19.72919163, 19.68087093, 19.6323564 , 19.58364854, 19.53474784,\n",
       "       19.48565477, 19.43636984, 19.38689354, 19.33722636, 19.28736881,\n",
       "       19.23732137, 19.18708456, 19.13665888, 19.08604483, 19.03524292,\n",
       "       18.98425366, 18.93307756, 18.88171513, 18.8301669 , 18.77843337,\n",
       "       18.72651507, 18.67441251, 18.62212623, 18.56965674, 18.51700458,\n",
       "       18.46417027, 18.41115434, 18.35795733, 18.30457977, 18.25102219,\n",
       "       18.19728514, 18.14336916, 18.08927479, 18.03500257, 17.98055304,\n",
       "       17.92592677, 17.87112429, 17.81614616, 17.76099293, 17.70566516,\n",
       "       17.65016341, 17.59448823, 17.53864019, 17.48261985, 17.42642777,\n",
       "       17.37006452, 17.31353068, 17.25682681, 17.19995348, 17.14291126,\n",
       "       17.08570075, 17.0283225 , 16.97077711, 16.91306515, 16.85518721,\n",
       "       16.79714387, 16.73893573, 16.68056336, 16.62202737, 16.56332834,\n",
       "       16.50446687, 16.44544356, 16.386259  , 16.3269138 , 16.26740855,\n",
       "       16.20774386, 16.14792035, 16.08793861, 16.02779925, 15.96750289,\n",
       "       15.90705014, 15.84644161, 15.78567793, 15.7247597 , 15.66368756,\n",
       "       15.60246213, 15.54108402, 15.47955387, 15.4178723 , 15.35603994,\n",
       "       15.29405743, 15.2319254 , 15.16964449, 15.10721532, 15.04463855,\n",
       "       14.98191481, 14.91904475, 14.85602901, 14.79286824, 14.72956308,\n",
       "       14.6661142 , 14.60252223, 14.53878784, 14.47491168, 14.41089442,\n",
       "       14.3467367 , 14.28243919, 14.21800257, 14.15342748, 14.08871461,\n",
       "       14.02386462, 13.95887819, 13.89375598, 13.82849867, 13.76310695,\n",
       "       13.69758149, 13.63192298, 13.56613209, 13.50020952, 13.43415596,\n",
       "       13.36797209, 13.3016586 , 13.2352162 , 13.16864557, 13.10194742,\n",
       "       13.03512245, 12.96817136, 12.90109486, 12.83389365, 12.76656845,\n",
       "       12.69911996, 12.63154891, 12.56385601, 12.49604197, 12.42810753,\n",
       "       12.36005339, 12.2918803 , 12.22358898, 12.15518016, 12.08665457,\n",
       "       12.01801295, 11.94925605, 11.8803846 , 11.81139934, 11.74230103,\n",
       "       11.67309041, 11.60376824, 11.53433527, 11.46479226, 11.39513997,\n",
       "       11.32537917, 11.25551062, 11.1855351 , 11.11545338, 11.04526623,\n",
       "       10.97497444, 10.90457879, 10.83408007, 10.76347907, 10.69277658,\n",
       "       10.6219734 , 10.55107033, 10.48006818, 10.40896777, 10.33776989,\n",
       "       10.26647538, 10.19508504, 10.12359972, 10.05202024,  9.98034744,\n",
       "        9.90858216,  9.83672524,  9.76477753,  9.6927399 ,  9.6206132 ,\n",
       "        9.5483983 ,  9.47609607,  9.40370739,  9.33123316,  9.25867424,\n",
       "        9.18603156,  9.113306  ,  9.04049849,  8.96760994,  8.89464127,\n",
       "        8.82159343,  8.74846735,  8.67526398,  8.60198429,  8.52862924,\n",
       "        8.45519982,  8.381697  ,  8.3081218 ,  8.2344752 ,  8.16075825,\n",
       "        8.08697196,  8.01311739,  7.93919559,  7.86520762,  7.79115458,\n",
       "        7.71703756,  7.64285767,  7.56861605,  7.49431383,  7.41995219,\n",
       "        7.3455323 ,  7.27105536,  7.1965226 ,  7.12193525,  7.04729459,\n",
       "        6.97260189,  6.89785847,  6.82306567,  6.74822486,  6.67333743,\n",
       "        6.5984048 ,  6.52342844,  6.44840983,  6.37335051,  6.29825203,\n",
       "        6.22311602,  6.14794411,  6.072738  ,  5.99749944,  5.92223023,\n",
       "        5.84693221,  5.77160729,  5.69625745,  5.62088473,  5.54549123,\n",
       "        5.47007913,  5.39465072,  5.31920833,  5.24375441,  5.16829151,\n",
       "        5.09282228,  5.01734949,  4.94187603,  4.86640492,  4.79093933,\n",
       "        4.71548258,  4.64003816,  4.56460974,  4.48920119,  4.41381657,\n",
       "        4.33846021,  4.26313666,  4.18785075,  4.1126076 ,  4.03741267,\n",
       "        3.96227176,  3.88719106,  3.81217718,  3.73723722,  3.66237876,\n",
       "        3.58760995,  3.51293957,  3.43837709,  3.36393273,  3.28961755,\n",
       "        3.21544355,  3.14142376,  3.06757239,  2.99390493,  2.92043832,\n",
       "        2.84719112,  2.77418373,  2.70143859,  2.62898048,  2.55683677,\n",
       "        2.48503784,  2.41361741,  2.34261306,  2.27206675,  2.20202541,\n",
       "        2.1325417 ,  2.06367485,  1.99549159,  1.92806727,  1.86148718,\n",
       "        1.79584799,  1.73125948,  1.66784641,  1.60575071,  1.54513381,\n",
       "        1.48617921,  1.42909513,  1.37411709,  1.32151029,  1.27157127,\n",
       "        1.22462853,  1.18104136,  1.14119614,  1.10549922,  1.07436563,\n",
       "        1.04820337,  1.02739334,  1.01226654,  1.00308073,  1.        ])"
      ]
     },
     "execution_count": 201,
     "metadata": {},
     "output_type": "execute_result"
    }
   ],
   "source": [
    "Efk"
   ]
  },
  {
   "cell_type": "code",
   "execution_count": 202,
   "id": "1d718c9c",
   "metadata": {
    "collapsed": true
   },
   "outputs": [
    {
     "data": {
      "text/plain": [
       "array([-1.        , -0.99516543, -0.98089725, -0.95786851, -0.92709857,\n",
       "       -0.88982742, -0.84738424, -0.80107342, -0.75209183, -0.70147989,\n",
       "       -0.65010222, -0.59864974, -0.54765521, -0.49751519, -0.44851381,\n",
       "       -0.40084542, -0.3546345 , -0.30995241, -0.266831  , -0.22527326,\n",
       "       -0.18526164, -0.14676434, -0.10974002, -0.07414129, -0.03991723,\n",
       "       -0.00701528,  0.02461752,  0.05503359,  0.08428423,  0.11241919,\n",
       "        0.13948646,  0.16553212,  0.19060026,  0.21473301,  0.23797058,\n",
       "        0.26035127,  0.28191156,  0.30268623,  0.32270837,  0.34200951,\n",
       "        0.3606197 ,  0.37856757,  0.39588041,  0.41258425,  0.42870393,\n",
       "        0.44426315,  0.45928453,  0.47378969,  0.48779926,  0.50133299,\n",
       "        0.51440972,  0.52704748,  0.53926352,  0.55107434,  0.5624957 ,\n",
       "        0.57354272,  0.58422986,  0.59457094,  0.60457922,  0.61426738,\n",
       "        0.62364758,  0.63273146,  0.64153016,  0.65005438,  0.65831434,\n",
       "        0.66631986,  0.67408035,  0.68160482,  0.68890192,  0.69597994,\n",
       "        0.70284682,  0.70951018,  0.71597735,  0.72225534,  0.72835088,\n",
       "        0.73427043,  0.74002019,  0.74560612,  0.75103392,  0.75630909,\n",
       "        0.76143689,  0.76642239,  0.77127044,  0.77598572,  0.78057271,\n",
       "        0.78503573,  0.78937892,  0.79360627,  0.7977216 ,  0.80172862,\n",
       "        0.80563085,  0.80943171,  0.81313449,  0.81674233,  0.82025827,\n",
       "        0.82368525,  0.82702607,  0.83028345,  0.83346   ,  0.83655823,\n",
       "        0.83958058,  0.84252937,  0.84540685,  0.84821521,  0.85095652,\n",
       "        0.8536328 ,  0.85624601,  0.85879802,  0.86129063,  0.86372561,\n",
       "        0.86610462,  0.8684293 ,  0.87070123,  0.87292192,  0.87509283,\n",
       "        0.87721538,  0.87929094,  0.88132083,  0.88330633,  0.88524867,\n",
       "        0.88714904,  0.88900861,  0.89082848,  0.89260974,  0.89435342,\n",
       "        0.89606055,  0.8977321 ,  0.89936901,  0.90097221,  0.90254257,\n",
       "        0.90408096,  0.90558821,  0.90706513,  0.9085125 ,  0.90993107,\n",
       "        0.91132157,  0.91268473,  0.91402122,  0.91533172,  0.91661687,\n",
       "        0.9178773 ,  0.91911363,  0.92032643,  0.9215163 ,  0.92268377,\n",
       "        0.9238294 ,  0.92495371,  0.92605721,  0.92714039,  0.92820373,\n",
       "        0.9292477 ,  0.93027276,  0.93127934,  0.93226786,  0.93323876,\n",
       "        0.93419243,  0.93512926,  0.93604964,  0.93695393,  0.9378425 ,\n",
       "        0.93871571,  0.93957388,  0.94041736,  0.94124647,  0.94206152,\n",
       "        0.94286282,  0.94365067,  0.94442536,  0.94518717,  0.94593637,\n",
       "        0.94667323,  0.94739802,  0.948111  ,  0.94881239,  0.94950246,\n",
       "        0.95018143,  0.95084953,  0.95150699,  0.95215403,  0.95279085,\n",
       "        0.95341766,  0.95403467,  0.95464207,  0.95524006,  0.95582882,\n",
       "        0.95640853,  0.95697938,  0.95754153,  0.95809516,  0.95864043,\n",
       "        0.9591775 ,  0.95970654,  0.96022769,  0.96074111,  0.96124694,\n",
       "        0.96174533,  0.96223641,  0.96272033,  0.96319721,  0.9636672 ,\n",
       "        0.96413041,  0.96458697,  0.965037  ,  0.96548062,  0.96591795,\n",
       "        0.9663491 ,  0.96677419,  0.96719331,  0.96760659,  0.96801411,\n",
       "        0.96841599,  0.96881232,  0.9692032 ,  0.96958873,  0.969969  ,\n",
       "        0.97034409,  0.97071411,  0.97107913,  0.97143924,  0.97179453,\n",
       "        0.97214507,  0.97249095,  0.97283225,  0.97316903,  0.97350139,\n",
       "        0.97382938,  0.97415309,  0.97447258,  0.97478792,  0.97509918,\n",
       "        0.97540643,  0.97570973,  0.97600915,  0.97630474,  0.97659657,\n",
       "        0.9768847 ,  0.97716918,  0.97745008,  0.97772745,  0.97800135,\n",
       "        0.97827182,  0.97853893,  0.97880272,  0.97906325,  0.97932057,\n",
       "        0.97957472,  0.97982576,  0.98007373,  0.98031867,  0.98056064,\n",
       "        0.98079967,  0.98103581,  0.98126911,  0.98149961,  0.98172734,\n",
       "        0.98195235,  0.98217467,  0.98239436,  0.98261143,  0.98282595,\n",
       "        0.98303793,  0.98324741,  0.98345444,  0.98365904,  0.98386125,\n",
       "        0.98406111,  0.98425865,  0.98445389,  0.98464688,  0.98483763,\n",
       "        0.9850262 ,  0.98521259,  0.98539685,  0.98557901,  0.98575908,\n",
       "        0.9859371 ,  0.9861131 ,  0.98628711,  0.98645914,  0.98662924,\n",
       "        0.98679741,  0.9869637 ,  0.98712811,  0.98729069,  0.98745145,\n",
       "        0.98761041,  0.9877676 ,  0.98792304,  0.98807676,  0.98822877,\n",
       "        0.98837911,  0.98852778,  0.98867481,  0.98882022,  0.98896403,\n",
       "        0.98910626,  0.98924694,  0.98938607,  0.98952368,  0.98965979,\n",
       "        0.98979442,  0.98992758,  0.99005929,  0.99018958,  0.99031844,\n",
       "        0.99044592,  0.99057201,  0.99069674,  0.99082012,  0.99094217,\n",
       "        0.9910629 ,  0.99118234,  0.99130049,  0.99141737,  0.99153299,\n",
       "        0.99164737,  0.99176053,  0.99187247,  0.99198321,  0.99209276,\n",
       "        0.99220115,  0.99230837,  0.99241445,  0.99251939,  0.99262321,\n",
       "        0.99272593,  0.99282754,  0.99292807,  0.99302753,  0.99312593,\n",
       "        0.99322328,  0.99331958,  0.99341486,  0.99350912,  0.99360238,\n",
       "        0.99369464,  0.99378592,  0.99387622,  0.99396555,  0.99405393,\n",
       "        0.99414136,  0.99422786,  0.99431344,  0.99439809,  0.99448184,\n",
       "        0.99456469,  0.99464665,  0.99472773,  0.99480793,  0.99488728,\n",
       "        0.99496577,  0.99504341,  0.99512021,  0.99519618,  0.99527133,\n",
       "        0.99534566,  0.99541919,  0.99549192,  0.99556385,  0.995635  ,\n",
       "        0.99570537,  0.99577498,  0.99584381,  0.9959119 ,  0.99597923,\n",
       "        0.99604582,  0.99611167,  0.99617679,  0.99624119,  0.99630487,\n",
       "        0.99636785,  0.99643011,  0.99649168,  0.99655256,  0.99661275,\n",
       "        0.99667226,  0.99673109,  0.99678925,  0.99684675,  0.99690359,\n",
       "        0.99695978,  0.99701532,  0.99707022,  0.99712448,  0.99717811,\n",
       "        0.99723111,  0.99728348,  0.99733524,  0.99738639,  0.99743693,\n",
       "        0.99748686,  0.9975362 ,  0.99758494,  0.9976331 ,  0.99768066,\n",
       "        0.99772765,  0.99777405,  0.99781989,  0.99786515,  0.99790986,\n",
       "        0.997954  ,  0.99799758,  0.99804061,  0.99808309,  0.99812503,\n",
       "        0.99816642,  0.99820728,  0.9982476 ,  0.99828739,  0.99832665,\n",
       "        0.99836539,  0.9984036 ,  0.9984413 ,  0.99847849,  0.99851516,\n",
       "        0.99855133,  0.99858699,  0.99862215,  0.9986568 ,  0.99869097,\n",
       "        0.99872464,  0.99875782,  0.99879051,  0.99882272,  0.99885445,\n",
       "        0.99888569,  0.99891646,  0.99894676,  0.99897658,  0.99900594,\n",
       "        0.99903483,  0.99906325,  0.99909121,  0.99911872,  0.99914576,\n",
       "        0.99917235,  0.99919849,  0.99922417,  0.99924941,  0.9992742 ,\n",
       "        0.99929854,  0.99932245,  0.99934591,  0.99936893,  0.99939151,\n",
       "        0.99941366,  0.99943538,  0.99945667,  0.99947752,  0.99949795,\n",
       "        0.99951795,  0.99953752,  0.99955667,  0.9995754 ,  0.99959371,\n",
       "        0.9996116 ,  0.99962907,  0.99964613,  0.99966277,  0.99967899,\n",
       "        0.99969481,  0.99971021,  0.99972521,  0.99973979,  0.99975397,\n",
       "        0.99976774,  0.9997811 ,  0.99979407,  0.99980662,  0.99981878,\n",
       "        0.99983053,  0.99984189,  0.99985284,  0.9998634 ,  0.99987355,\n",
       "        0.99988331,  0.99989268,  0.99990165,  0.99991022,  0.9999184 ,\n",
       "        0.99992619,  0.99993358,  0.99994058,  0.99994719,  0.9999534 ,\n",
       "        0.99995923,  0.99996467,  0.99996971,  0.99997437,  0.99997864,\n",
       "        0.99998251,  0.999986  ,  0.9999891 ,  0.99999182,  0.99999414,\n",
       "        0.99999608,  0.99999763,  0.99999879,  0.99999956,  0.99999995,\n",
       "        0.99999995,  0.99999956,  0.99999879,  0.99999763,  0.99999608,\n",
       "        0.99999414,  0.99999182,  0.9999891 ,  0.999986  ,  0.99998251,\n",
       "        0.99997864,  0.99997437,  0.99996971,  0.99996467,  0.99995923,\n",
       "        0.9999534 ,  0.99994719,  0.99994058,  0.99993358,  0.99992619,\n",
       "        0.9999184 ,  0.99991022,  0.99990165,  0.99989268,  0.99988331,\n",
       "        0.99987355,  0.9998634 ,  0.99985284,  0.99984189,  0.99983053,\n",
       "        0.99981878,  0.99980662,  0.99979407,  0.9997811 ,  0.99976774,\n",
       "        0.99975397,  0.99973979,  0.99972521,  0.99971021,  0.99969481,\n",
       "        0.99967899,  0.99966277,  0.99964613,  0.99962907,  0.9996116 ,\n",
       "        0.99959371,  0.9995754 ,  0.99955667,  0.99953752,  0.99951795,\n",
       "        0.99949795,  0.99947752,  0.99945667,  0.99943538,  0.99941366,\n",
       "        0.99939151,  0.99936893,  0.99934591,  0.99932245,  0.99929854,\n",
       "        0.9992742 ,  0.99924941,  0.99922417,  0.99919849,  0.99917235,\n",
       "        0.99914576,  0.99911872,  0.99909121,  0.99906325,  0.99903483,\n",
       "        0.99900594,  0.99897658,  0.99894676,  0.99891646,  0.99888569,\n",
       "        0.99885445,  0.99882272,  0.99879051,  0.99875782,  0.99872464,\n",
       "        0.99869097,  0.9986568 ,  0.99862215,  0.99858699,  0.99855133,\n",
       "        0.99851516,  0.99847849,  0.9984413 ,  0.9984036 ,  0.99836539,\n",
       "        0.99832665,  0.99828739,  0.9982476 ,  0.99820728,  0.99816642,\n",
       "        0.99812503,  0.99808309,  0.99804061,  0.99799758,  0.997954  ,\n",
       "        0.99790986,  0.99786515,  0.99781989,  0.99777405,  0.99772765,\n",
       "        0.99768066,  0.9976331 ,  0.99758494,  0.9975362 ,  0.99748686,\n",
       "        0.99743693,  0.99738639,  0.99733524,  0.99728348,  0.99723111,\n",
       "        0.99717811,  0.99712448,  0.99707022,  0.99701532,  0.99695978,\n",
       "        0.99690359,  0.99684675,  0.99678925,  0.99673109,  0.99667226,\n",
       "        0.99661275,  0.99655256,  0.99649168,  0.99643011,  0.99636785,\n",
       "        0.99630487,  0.99624119,  0.99617679,  0.99611167,  0.99604582,\n",
       "        0.99597923,  0.9959119 ,  0.99584381,  0.99577498,  0.99570537,\n",
       "        0.995635  ,  0.99556385,  0.99549192,  0.99541919,  0.99534566,\n",
       "        0.99527133,  0.99519618,  0.99512021,  0.99504341,  0.99496577,\n",
       "        0.99488728,  0.99480793,  0.99472773,  0.99464665,  0.99456469,\n",
       "        0.99448184,  0.99439809,  0.99431344,  0.99422786,  0.99414136,\n",
       "        0.99405393,  0.99396555,  0.99387622,  0.99378592,  0.99369464,\n",
       "        0.99360238,  0.99350912,  0.99341486,  0.99331958,  0.99322328,\n",
       "        0.99312593,  0.99302753,  0.99292807,  0.99282754,  0.99272593,\n",
       "        0.99262321,  0.99251939,  0.99241445,  0.99230837,  0.99220115,\n",
       "        0.99209276,  0.99198321,  0.99187247,  0.99176053,  0.99164737,\n",
       "        0.99153299,  0.99141737,  0.99130049,  0.99118234,  0.9910629 ,\n",
       "        0.99094217,  0.99082012,  0.99069674,  0.99057201,  0.99044592,\n",
       "        0.99031844,  0.99018958,  0.99005929,  0.98992758,  0.98979442,\n",
       "        0.98965979,  0.98952368,  0.98938607,  0.98924694,  0.98910626,\n",
       "        0.98896403,  0.98882022,  0.98867481,  0.98852778,  0.98837911,\n",
       "        0.98822877,  0.98807676,  0.98792304,  0.9877676 ,  0.98761041,\n",
       "        0.98745145,  0.98729069,  0.98712811,  0.9869637 ,  0.98679741,\n",
       "        0.98662924,  0.98645914,  0.98628711,  0.9861131 ,  0.9859371 ,\n",
       "        0.98575908,  0.98557901,  0.98539685,  0.98521259,  0.9850262 ,\n",
       "        0.98483763,  0.98464688,  0.98445389,  0.98425865,  0.98406111,\n",
       "        0.98386125,  0.98365904,  0.98345444,  0.98324741,  0.98303793,\n",
       "        0.98282595,  0.98261143,  0.98239436,  0.98217467,  0.98195235,\n",
       "        0.98172734,  0.98149961,  0.98126911,  0.98103581,  0.98079967,\n",
       "        0.98056064,  0.98031867,  0.98007373,  0.97982576,  0.97957472,\n",
       "        0.97932057,  0.97906325,  0.97880272,  0.97853893,  0.97827182,\n",
       "        0.97800135,  0.97772745,  0.97745008,  0.97716918,  0.9768847 ,\n",
       "        0.97659657,  0.97630474,  0.97600915,  0.97570973,  0.97540643,\n",
       "        0.97509918,  0.97478792,  0.97447258,  0.97415309,  0.97382938,\n",
       "        0.97350139,  0.97316903,  0.97283225,  0.97249095,  0.97214507,\n",
       "        0.97179453,  0.97143924,  0.97107913,  0.97071411,  0.97034409,\n",
       "        0.969969  ,  0.96958873,  0.9692032 ,  0.96881232,  0.96841599,\n",
       "        0.96801411,  0.96760659,  0.96719331,  0.96677419,  0.9663491 ,\n",
       "        0.96591795,  0.96548062,  0.965037  ,  0.96458697,  0.96413041,\n",
       "        0.9636672 ,  0.96319721,  0.96272033,  0.96223641,  0.96174533,\n",
       "        0.96124694,  0.96074111,  0.96022769,  0.95970654,  0.9591775 ,\n",
       "        0.95864043,  0.95809516,  0.95754153,  0.95697938,  0.95640853,\n",
       "        0.95582882,  0.95524006,  0.95464207,  0.95403467,  0.95341766,\n",
       "        0.95279085,  0.95215403,  0.95150699,  0.95084953,  0.95018143,\n",
       "        0.94950246,  0.94881239,  0.948111  ,  0.94739802,  0.94667323,\n",
       "        0.94593637,  0.94518717,  0.94442536,  0.94365067,  0.94286282,\n",
       "        0.94206152,  0.94124647,  0.94041736,  0.93957388,  0.93871571,\n",
       "        0.9378425 ,  0.93695393,  0.93604964,  0.93512926,  0.93419243,\n",
       "        0.93323876,  0.93226786,  0.93127934,  0.93027276,  0.9292477 ,\n",
       "        0.92820373,  0.92714039,  0.92605721,  0.92495371,  0.9238294 ,\n",
       "        0.92268377,  0.9215163 ,  0.92032643,  0.91911363,  0.9178773 ,\n",
       "        0.91661687,  0.91533172,  0.91402122,  0.91268473,  0.91132157,\n",
       "        0.90993107,  0.9085125 ,  0.90706513,  0.90558821,  0.90408096,\n",
       "        0.90254257,  0.90097221,  0.89936901,  0.8977321 ,  0.89606055,\n",
       "        0.89435342,  0.89260974,  0.89082848,  0.88900861,  0.88714904,\n",
       "        0.88524867,  0.88330633,  0.88132083,  0.87929094,  0.87721538,\n",
       "        0.87509283,  0.87292192,  0.87070123,  0.8684293 ,  0.86610462,\n",
       "        0.86372561,  0.86129063,  0.85879802,  0.85624601,  0.8536328 ,\n",
       "        0.85095652,  0.84821521,  0.84540685,  0.84252937,  0.83958058,\n",
       "        0.83655823,  0.83346   ,  0.83028345,  0.82702607,  0.82368525,\n",
       "        0.82025827,  0.81674233,  0.81313449,  0.80943171,  0.80563085,\n",
       "        0.80172862,  0.7977216 ,  0.79360627,  0.78937892,  0.78503573,\n",
       "        0.78057271,  0.77598572,  0.77127044,  0.76642239,  0.76143689,\n",
       "        0.75630909,  0.75103392,  0.74560612,  0.74002019,  0.73427043,\n",
       "        0.72835088,  0.72225534,  0.71597735,  0.70951018,  0.70284682,\n",
       "        0.69597994,  0.68890192,  0.68160482,  0.67408035,  0.66631986,\n",
       "        0.65831434,  0.65005438,  0.64153016,  0.63273146,  0.62364758,\n",
       "        0.61426738,  0.60457922,  0.59457094,  0.58422986,  0.57354272,\n",
       "        0.5624957 ,  0.55107434,  0.53926352,  0.52704748,  0.51440972,\n",
       "        0.50133299,  0.48779926,  0.47378969,  0.45928453,  0.44426315,\n",
       "        0.42870393,  0.41258425,  0.39588041,  0.37856757,  0.3606197 ,\n",
       "        0.34200951,  0.32270837,  0.30268623,  0.28191156,  0.26035127,\n",
       "        0.23797058,  0.21473301,  0.19060026,  0.16553212,  0.13948646,\n",
       "        0.11241919,  0.08428423,  0.05503359,  0.02461752, -0.00701528,\n",
       "       -0.03991723, -0.07414129, -0.10974002, -0.14676434, -0.18526164,\n",
       "       -0.22527326, -0.266831  , -0.30995241, -0.3546345 , -0.40084542,\n",
       "       -0.44851381, -0.49751519, -0.54765521, -0.59864974, -0.65010222,\n",
       "       -0.70147989, -0.75209183, -0.80107342, -0.84738424, -0.88982742,\n",
       "       -0.92709857, -0.95786851, -0.98089725, -0.99516543, -1.        ])"
      ]
     },
     "execution_count": 202,
     "metadata": {},
     "output_type": "execute_result"
    }
   ],
   "source": [
    "cos_delta_k"
   ]
  },
  {
   "cell_type": "code",
   "execution_count": 203,
   "id": "52c32c45",
   "metadata": {},
   "outputs": [
    {
     "data": {
      "text/plain": [
       "(array([0.90237501, 0.43095167]), array([-0.30086958,  0.9536653 ]))"
      ]
     },
     "execution_count": 203,
     "metadata": {},
     "output_type": "execute_result"
    }
   ],
   "source": [
    "di_normed[30] , df_normed[30]"
   ]
  },
  {
   "cell_type": "code",
   "execution_count": 204,
   "id": "eeed38b1",
   "metadata": {},
   "outputs": [
    {
     "data": {
      "text/plain": [
       "(array([0.90237501, 0.43095167]), array([-0.30086958,  0.9536653 ]))"
      ]
     },
     "execution_count": 204,
     "metadata": {},
     "output_type": "execute_result"
    }
   ],
   "source": [
    "di[30]/np.sqrt(np.sum(di[30]**2)) , df[30]/np.sqrt(np.sum(df[30]**2))"
   ]
  },
  {
   "cell_type": "code",
   "execution_count": 205,
   "id": "ceeb5584",
   "metadata": {},
   "outputs": [
    {
     "data": {
      "text/plain": [
       "(array([ 25, 974], dtype=int64),)"
      ]
     },
     "execution_count": 205,
     "metadata": {},
     "output_type": "execute_result"
    }
   ],
   "source": [
    "np.where(abs(cos_delta_k) < 0.01)"
   ]
  },
  {
   "cell_type": "code",
   "execution_count": 206,
   "id": "900f9f99",
   "metadata": {},
   "outputs": [
    {
     "data": {
      "text/plain": [
       "-0.007015277050193391"
      ]
     },
     "execution_count": 206,
     "metadata": {},
     "output_type": "execute_result"
    }
   ],
   "source": [
    "cos_delta_k[25]"
   ]
  },
  {
   "cell_type": "code",
   "execution_count": 207,
   "id": "b0c73cd7",
   "metadata": {
    "collapsed": true
   },
   "outputs": [
    {
     "data": {
      "text/plain": [
       "array([-1.        , -0.99516543, -0.98089725, -0.95786851, -0.92709857,\n",
       "       -0.88982742, -0.84738424, -0.80107342, -0.75209183, -0.70147989,\n",
       "       -0.65010222, -0.59864974, -0.54765521, -0.49751519, -0.44851381,\n",
       "       -0.40084542, -0.3546345 , -0.30995241, -0.266831  , -0.22527326,\n",
       "       -0.18526164, -0.14676434, -0.10974002, -0.07414129, -0.03991723,\n",
       "       -0.00701528,  0.02461752,  0.05503359,  0.08428423,  0.11241919,\n",
       "        0.13948646,  0.16553212,  0.19060026,  0.21473301,  0.23797058,\n",
       "        0.26035127,  0.28191156,  0.30268623,  0.32270837,  0.34200951,\n",
       "        0.3606197 ,  0.37856757,  0.39588041,  0.41258425,  0.42870393,\n",
       "        0.44426315,  0.45928453,  0.47378969,  0.48779926,  0.50133299,\n",
       "        0.51440972,  0.52704748,  0.53926352,  0.55107434,  0.5624957 ,\n",
       "        0.57354272,  0.58422986,  0.59457094,  0.60457922,  0.61426738,\n",
       "        0.62364758,  0.63273146,  0.64153016,  0.65005438,  0.65831434,\n",
       "        0.66631986,  0.67408035,  0.68160482,  0.68890192,  0.69597994,\n",
       "        0.70284682,  0.70951018,  0.71597735,  0.72225534,  0.72835088,\n",
       "        0.73427043,  0.74002019,  0.74560612,  0.75103392,  0.75630909,\n",
       "        0.76143689,  0.76642239,  0.77127044,  0.77598572,  0.78057271,\n",
       "        0.78503573,  0.78937892,  0.79360627,  0.7977216 ,  0.80172862,\n",
       "        0.80563085,  0.80943171,  0.81313449,  0.81674233,  0.82025827,\n",
       "        0.82368525,  0.82702607,  0.83028345,  0.83346   ,  0.83655823,\n",
       "        0.83958058,  0.84252937,  0.84540685,  0.84821521,  0.85095652,\n",
       "        0.8536328 ,  0.85624601,  0.85879802,  0.86129063,  0.86372561,\n",
       "        0.86610462,  0.8684293 ,  0.87070123,  0.87292192,  0.87509283,\n",
       "        0.87721538,  0.87929094,  0.88132083,  0.88330633,  0.88524867,\n",
       "        0.88714904,  0.88900861,  0.89082848,  0.89260974,  0.89435342,\n",
       "        0.89606055,  0.8977321 ,  0.89936901,  0.90097221,  0.90254257,\n",
       "        0.90408096,  0.90558821,  0.90706513,  0.9085125 ,  0.90993107,\n",
       "        0.91132157,  0.91268473,  0.91402122,  0.91533172,  0.91661687,\n",
       "        0.9178773 ,  0.91911363,  0.92032643,  0.9215163 ,  0.92268377,\n",
       "        0.9238294 ,  0.92495371,  0.92605721,  0.92714039,  0.92820373,\n",
       "        0.9292477 ,  0.93027276,  0.93127934,  0.93226786,  0.93323876,\n",
       "        0.93419243,  0.93512926,  0.93604964,  0.93695393,  0.9378425 ,\n",
       "        0.93871571,  0.93957388,  0.94041736,  0.94124647,  0.94206152,\n",
       "        0.94286282,  0.94365067,  0.94442536,  0.94518717,  0.94593637,\n",
       "        0.94667323,  0.94739802,  0.948111  ,  0.94881239,  0.94950246,\n",
       "        0.95018143,  0.95084953,  0.95150699,  0.95215403,  0.95279085,\n",
       "        0.95341766,  0.95403467,  0.95464207,  0.95524006,  0.95582882,\n",
       "        0.95640853,  0.95697938,  0.95754153,  0.95809516,  0.95864043,\n",
       "        0.9591775 ,  0.95970654,  0.96022769,  0.96074111,  0.96124694,\n",
       "        0.96174533,  0.96223641,  0.96272033,  0.96319721,  0.9636672 ,\n",
       "        0.96413041,  0.96458697,  0.965037  ,  0.96548062,  0.96591795,\n",
       "        0.9663491 ,  0.96677419,  0.96719331,  0.96760659,  0.96801411,\n",
       "        0.96841599,  0.96881232,  0.9692032 ,  0.96958873,  0.969969  ,\n",
       "        0.97034409,  0.97071411,  0.97107913,  0.97143924,  0.97179453,\n",
       "        0.97214507,  0.97249095,  0.97283225,  0.97316903,  0.97350139,\n",
       "        0.97382938,  0.97415309,  0.97447258,  0.97478792,  0.97509918,\n",
       "        0.97540643,  0.97570973,  0.97600915,  0.97630474,  0.97659657,\n",
       "        0.9768847 ,  0.97716918,  0.97745008,  0.97772745,  0.97800135,\n",
       "        0.97827182,  0.97853893,  0.97880272,  0.97906325,  0.97932057,\n",
       "        0.97957472,  0.97982576,  0.98007373,  0.98031867,  0.98056064,\n",
       "        0.98079967,  0.98103581,  0.98126911,  0.98149961,  0.98172734,\n",
       "        0.98195235,  0.98217467,  0.98239436,  0.98261143,  0.98282595,\n",
       "        0.98303793,  0.98324741,  0.98345444,  0.98365904,  0.98386125,\n",
       "        0.98406111,  0.98425865,  0.98445389,  0.98464688,  0.98483763,\n",
       "        0.9850262 ,  0.98521259,  0.98539685,  0.98557901,  0.98575908,\n",
       "        0.9859371 ,  0.9861131 ,  0.98628711,  0.98645914,  0.98662924,\n",
       "        0.98679741,  0.9869637 ,  0.98712811,  0.98729069,  0.98745145,\n",
       "        0.98761041,  0.9877676 ,  0.98792304,  0.98807676,  0.98822877,\n",
       "        0.98837911,  0.98852778,  0.98867481,  0.98882022,  0.98896403,\n",
       "        0.98910626,  0.98924694,  0.98938607,  0.98952368,  0.98965979,\n",
       "        0.98979442,  0.98992758,  0.99005929,  0.99018958,  0.99031844,\n",
       "        0.99044592,  0.99057201,  0.99069674,  0.99082012,  0.99094217,\n",
       "        0.9910629 ,  0.99118234,  0.99130049,  0.99141737,  0.99153299,\n",
       "        0.99164737,  0.99176053,  0.99187247,  0.99198321,  0.99209276,\n",
       "        0.99220115,  0.99230837,  0.99241445,  0.99251939,  0.99262321,\n",
       "        0.99272593,  0.99282754,  0.99292807,  0.99302753,  0.99312593,\n",
       "        0.99322328,  0.99331958,  0.99341486,  0.99350912,  0.99360238,\n",
       "        0.99369464,  0.99378592,  0.99387622,  0.99396555,  0.99405393,\n",
       "        0.99414136,  0.99422786,  0.99431344,  0.99439809,  0.99448184,\n",
       "        0.99456469,  0.99464665,  0.99472773,  0.99480793,  0.99488728,\n",
       "        0.99496577,  0.99504341,  0.99512021,  0.99519618,  0.99527133,\n",
       "        0.99534566,  0.99541919,  0.99549192,  0.99556385,  0.995635  ,\n",
       "        0.99570537,  0.99577498,  0.99584381,  0.9959119 ,  0.99597923,\n",
       "        0.99604582,  0.99611167,  0.99617679,  0.99624119,  0.99630487,\n",
       "        0.99636785,  0.99643011,  0.99649168,  0.99655256,  0.99661275,\n",
       "        0.99667226,  0.99673109,  0.99678925,  0.99684675,  0.99690359,\n",
       "        0.99695978,  0.99701532,  0.99707022,  0.99712448,  0.99717811,\n",
       "        0.99723111,  0.99728348,  0.99733524,  0.99738639,  0.99743693,\n",
       "        0.99748686,  0.9975362 ,  0.99758494,  0.9976331 ,  0.99768066,\n",
       "        0.99772765,  0.99777405,  0.99781989,  0.99786515,  0.99790986,\n",
       "        0.997954  ,  0.99799758,  0.99804061,  0.99808309,  0.99812503,\n",
       "        0.99816642,  0.99820728,  0.9982476 ,  0.99828739,  0.99832665,\n",
       "        0.99836539,  0.9984036 ,  0.9984413 ,  0.99847849,  0.99851516,\n",
       "        0.99855133,  0.99858699,  0.99862215,  0.9986568 ,  0.99869097,\n",
       "        0.99872464,  0.99875782,  0.99879051,  0.99882272,  0.99885445,\n",
       "        0.99888569,  0.99891646,  0.99894676,  0.99897658,  0.99900594,\n",
       "        0.99903483,  0.99906325,  0.99909121,  0.99911872,  0.99914576,\n",
       "        0.99917235,  0.99919849,  0.99922417,  0.99924941,  0.9992742 ,\n",
       "        0.99929854,  0.99932245,  0.99934591,  0.99936893,  0.99939151,\n",
       "        0.99941366,  0.99943538,  0.99945667,  0.99947752,  0.99949795,\n",
       "        0.99951795,  0.99953752,  0.99955667,  0.9995754 ,  0.99959371,\n",
       "        0.9996116 ,  0.99962907,  0.99964613,  0.99966277,  0.99967899,\n",
       "        0.99969481,  0.99971021,  0.99972521,  0.99973979,  0.99975397,\n",
       "        0.99976774,  0.9997811 ,  0.99979407,  0.99980662,  0.99981878,\n",
       "        0.99983053,  0.99984189,  0.99985284,  0.9998634 ,  0.99987355,\n",
       "        0.99988331,  0.99989268,  0.99990165,  0.99991022,  0.9999184 ,\n",
       "        0.99992619,  0.99993358,  0.99994058,  0.99994719,  0.9999534 ,\n",
       "        0.99995923,  0.99996467,  0.99996971,  0.99997437,  0.99997864,\n",
       "        0.99998251,  0.999986  ,  0.9999891 ,  0.99999182,  0.99999414,\n",
       "        0.99999608,  0.99999763,  0.99999879,  0.99999956,  0.99999995,\n",
       "        0.99999995,  0.99999956,  0.99999879,  0.99999763,  0.99999608,\n",
       "        0.99999414,  0.99999182,  0.9999891 ,  0.999986  ,  0.99998251,\n",
       "        0.99997864,  0.99997437,  0.99996971,  0.99996467,  0.99995923,\n",
       "        0.9999534 ,  0.99994719,  0.99994058,  0.99993358,  0.99992619,\n",
       "        0.9999184 ,  0.99991022,  0.99990165,  0.99989268,  0.99988331,\n",
       "        0.99987355,  0.9998634 ,  0.99985284,  0.99984189,  0.99983053,\n",
       "        0.99981878,  0.99980662,  0.99979407,  0.9997811 ,  0.99976774,\n",
       "        0.99975397,  0.99973979,  0.99972521,  0.99971021,  0.99969481,\n",
       "        0.99967899,  0.99966277,  0.99964613,  0.99962907,  0.9996116 ,\n",
       "        0.99959371,  0.9995754 ,  0.99955667,  0.99953752,  0.99951795,\n",
       "        0.99949795,  0.99947752,  0.99945667,  0.99943538,  0.99941366,\n",
       "        0.99939151,  0.99936893,  0.99934591,  0.99932245,  0.99929854,\n",
       "        0.9992742 ,  0.99924941,  0.99922417,  0.99919849,  0.99917235,\n",
       "        0.99914576,  0.99911872,  0.99909121,  0.99906325,  0.99903483,\n",
       "        0.99900594,  0.99897658,  0.99894676,  0.99891646,  0.99888569,\n",
       "        0.99885445,  0.99882272,  0.99879051,  0.99875782,  0.99872464,\n",
       "        0.99869097,  0.9986568 ,  0.99862215,  0.99858699,  0.99855133,\n",
       "        0.99851516,  0.99847849,  0.9984413 ,  0.9984036 ,  0.99836539,\n",
       "        0.99832665,  0.99828739,  0.9982476 ,  0.99820728,  0.99816642,\n",
       "        0.99812503,  0.99808309,  0.99804061,  0.99799758,  0.997954  ,\n",
       "        0.99790986,  0.99786515,  0.99781989,  0.99777405,  0.99772765,\n",
       "        0.99768066,  0.9976331 ,  0.99758494,  0.9975362 ,  0.99748686,\n",
       "        0.99743693,  0.99738639,  0.99733524,  0.99728348,  0.99723111,\n",
       "        0.99717811,  0.99712448,  0.99707022,  0.99701532,  0.99695978,\n",
       "        0.99690359,  0.99684675,  0.99678925,  0.99673109,  0.99667226,\n",
       "        0.99661275,  0.99655256,  0.99649168,  0.99643011,  0.99636785,\n",
       "        0.99630487,  0.99624119,  0.99617679,  0.99611167,  0.99604582,\n",
       "        0.99597923,  0.9959119 ,  0.99584381,  0.99577498,  0.99570537,\n",
       "        0.995635  ,  0.99556385,  0.99549192,  0.99541919,  0.99534566,\n",
       "        0.99527133,  0.99519618,  0.99512021,  0.99504341,  0.99496577,\n",
       "        0.99488728,  0.99480793,  0.99472773,  0.99464665,  0.99456469,\n",
       "        0.99448184,  0.99439809,  0.99431344,  0.99422786,  0.99414136,\n",
       "        0.99405393,  0.99396555,  0.99387622,  0.99378592,  0.99369464,\n",
       "        0.99360238,  0.99350912,  0.99341486,  0.99331958,  0.99322328,\n",
       "        0.99312593,  0.99302753,  0.99292807,  0.99282754,  0.99272593,\n",
       "        0.99262321,  0.99251939,  0.99241445,  0.99230837,  0.99220115,\n",
       "        0.99209276,  0.99198321,  0.99187247,  0.99176053,  0.99164737,\n",
       "        0.99153299,  0.99141737,  0.99130049,  0.99118234,  0.9910629 ,\n",
       "        0.99094217,  0.99082012,  0.99069674,  0.99057201,  0.99044592,\n",
       "        0.99031844,  0.99018958,  0.99005929,  0.98992758,  0.98979442,\n",
       "        0.98965979,  0.98952368,  0.98938607,  0.98924694,  0.98910626,\n",
       "        0.98896403,  0.98882022,  0.98867481,  0.98852778,  0.98837911,\n",
       "        0.98822877,  0.98807676,  0.98792304,  0.9877676 ,  0.98761041,\n",
       "        0.98745145,  0.98729069,  0.98712811,  0.9869637 ,  0.98679741,\n",
       "        0.98662924,  0.98645914,  0.98628711,  0.9861131 ,  0.9859371 ,\n",
       "        0.98575908,  0.98557901,  0.98539685,  0.98521259,  0.9850262 ,\n",
       "        0.98483763,  0.98464688,  0.98445389,  0.98425865,  0.98406111,\n",
       "        0.98386125,  0.98365904,  0.98345444,  0.98324741,  0.98303793,\n",
       "        0.98282595,  0.98261143,  0.98239436,  0.98217467,  0.98195235,\n",
       "        0.98172734,  0.98149961,  0.98126911,  0.98103581,  0.98079967,\n",
       "        0.98056064,  0.98031867,  0.98007373,  0.97982576,  0.97957472,\n",
       "        0.97932057,  0.97906325,  0.97880272,  0.97853893,  0.97827182,\n",
       "        0.97800135,  0.97772745,  0.97745008,  0.97716918,  0.9768847 ,\n",
       "        0.97659657,  0.97630474,  0.97600915,  0.97570973,  0.97540643,\n",
       "        0.97509918,  0.97478792,  0.97447258,  0.97415309,  0.97382938,\n",
       "        0.97350139,  0.97316903,  0.97283225,  0.97249095,  0.97214507,\n",
       "        0.97179453,  0.97143924,  0.97107913,  0.97071411,  0.97034409,\n",
       "        0.969969  ,  0.96958873,  0.9692032 ,  0.96881232,  0.96841599,\n",
       "        0.96801411,  0.96760659,  0.96719331,  0.96677419,  0.9663491 ,\n",
       "        0.96591795,  0.96548062,  0.965037  ,  0.96458697,  0.96413041,\n",
       "        0.9636672 ,  0.96319721,  0.96272033,  0.96223641,  0.96174533,\n",
       "        0.96124694,  0.96074111,  0.96022769,  0.95970654,  0.9591775 ,\n",
       "        0.95864043,  0.95809516,  0.95754153,  0.95697938,  0.95640853,\n",
       "        0.95582882,  0.95524006,  0.95464207,  0.95403467,  0.95341766,\n",
       "        0.95279085,  0.95215403,  0.95150699,  0.95084953,  0.95018143,\n",
       "        0.94950246,  0.94881239,  0.948111  ,  0.94739802,  0.94667323,\n",
       "        0.94593637,  0.94518717,  0.94442536,  0.94365067,  0.94286282,\n",
       "        0.94206152,  0.94124647,  0.94041736,  0.93957388,  0.93871571,\n",
       "        0.9378425 ,  0.93695393,  0.93604964,  0.93512926,  0.93419243,\n",
       "        0.93323876,  0.93226786,  0.93127934,  0.93027276,  0.9292477 ,\n",
       "        0.92820373,  0.92714039,  0.92605721,  0.92495371,  0.9238294 ,\n",
       "        0.92268377,  0.9215163 ,  0.92032643,  0.91911363,  0.9178773 ,\n",
       "        0.91661687,  0.91533172,  0.91402122,  0.91268473,  0.91132157,\n",
       "        0.90993107,  0.9085125 ,  0.90706513,  0.90558821,  0.90408096,\n",
       "        0.90254257,  0.90097221,  0.89936901,  0.8977321 ,  0.89606055,\n",
       "        0.89435342,  0.89260974,  0.89082848,  0.88900861,  0.88714904,\n",
       "        0.88524867,  0.88330633,  0.88132083,  0.87929094,  0.87721538,\n",
       "        0.87509283,  0.87292192,  0.87070123,  0.8684293 ,  0.86610462,\n",
       "        0.86372561,  0.86129063,  0.85879802,  0.85624601,  0.8536328 ,\n",
       "        0.85095652,  0.84821521,  0.84540685,  0.84252937,  0.83958058,\n",
       "        0.83655823,  0.83346   ,  0.83028345,  0.82702607,  0.82368525,\n",
       "        0.82025827,  0.81674233,  0.81313449,  0.80943171,  0.80563085,\n",
       "        0.80172862,  0.7977216 ,  0.79360627,  0.78937892,  0.78503573,\n",
       "        0.78057271,  0.77598572,  0.77127044,  0.76642239,  0.76143689,\n",
       "        0.75630909,  0.75103392,  0.74560612,  0.74002019,  0.73427043,\n",
       "        0.72835088,  0.72225534,  0.71597735,  0.70951018,  0.70284682,\n",
       "        0.69597994,  0.68890192,  0.68160482,  0.67408035,  0.66631986,\n",
       "        0.65831434,  0.65005438,  0.64153016,  0.63273146,  0.62364758,\n",
       "        0.61426738,  0.60457922,  0.59457094,  0.58422986,  0.57354272,\n",
       "        0.5624957 ,  0.55107434,  0.53926352,  0.52704748,  0.51440972,\n",
       "        0.50133299,  0.48779926,  0.47378969,  0.45928453,  0.44426315,\n",
       "        0.42870393,  0.41258425,  0.39588041,  0.37856757,  0.3606197 ,\n",
       "        0.34200951,  0.32270837,  0.30268623,  0.28191156,  0.26035127,\n",
       "        0.23797058,  0.21473301,  0.19060026,  0.16553212,  0.13948646,\n",
       "        0.11241919,  0.08428423,  0.05503359,  0.02461752, -0.00701528,\n",
       "       -0.03991723, -0.07414129, -0.10974002, -0.14676434, -0.18526164,\n",
       "       -0.22527326, -0.266831  , -0.30995241, -0.3546345 , -0.40084542,\n",
       "       -0.44851381, -0.49751519, -0.54765521, -0.59864974, -0.65010222,\n",
       "       -0.70147989, -0.75209183, -0.80107342, -0.84738424, -0.88982742,\n",
       "       -0.92709857, -0.95786851, -0.98089725, -0.99516543, -1.        ])"
      ]
     },
     "execution_count": 207,
     "metadata": {},
     "output_type": "execute_result"
    }
   ],
   "source": [
    "cos_delta_k"
   ]
  },
  {
   "cell_type": "code",
   "execution_count": 208,
   "id": "3637f734",
   "metadata": {
    "collapsed": true
   },
   "outputs": [
    {
     "data": {
      "text/plain": [
       "array([ 1.        ,  1.00308073,  1.01226654,  1.02739334,  1.04820337,\n",
       "        1.07436563,  1.10549922,  1.14119614,  1.18104136,  1.22462853,\n",
       "        1.27157127,  1.32151029,  1.37411709,  1.42909513,  1.48617921,\n",
       "        1.54513381,  1.60575071,  1.66784641,  1.73125948,  1.79584799,\n",
       "        1.86148718,  1.92806727,  1.99549159,  2.06367485,  2.1325417 ,\n",
       "        2.20202541,  2.27206675,  2.34261306,  2.41361741,  2.48503784,\n",
       "        2.55683677,  2.62898048,  2.70143859,  2.77418373,  2.84719112,\n",
       "        2.92043832,  2.99390493,  3.06757239,  3.14142376,  3.21544355,\n",
       "        3.28961755,  3.36393273,  3.43837709,  3.51293957,  3.58760995,\n",
       "        3.66237876,  3.73723722,  3.81217718,  3.88719106,  3.96227176,\n",
       "        4.03741267,  4.1126076 ,  4.18785075,  4.26313666,  4.33846021,\n",
       "        4.41381657,  4.48920119,  4.56460974,  4.64003816,  4.71548258,\n",
       "        4.79093933,  4.86640492,  4.94187603,  5.01734949,  5.09282228,\n",
       "        5.16829151,  5.24375441,  5.31920833,  5.39465072,  5.47007913,\n",
       "        5.54549123,  5.62088473,  5.69625745,  5.77160729,  5.84693221,\n",
       "        5.92223023,  5.99749944,  6.072738  ,  6.14794411,  6.22311602,\n",
       "        6.29825203,  6.37335051,  6.44840983,  6.52342844,  6.5984048 ,\n",
       "        6.67333743,  6.74822486,  6.82306567,  6.89785847,  6.97260189,\n",
       "        7.04729459,  7.12193525,  7.1965226 ,  7.27105536,  7.3455323 ,\n",
       "        7.41995219,  7.49431383,  7.56861605,  7.64285767,  7.71703756,\n",
       "        7.79115458,  7.86520762,  7.93919559,  8.01311739,  8.08697196,\n",
       "        8.16075825,  8.2344752 ,  8.3081218 ,  8.381697  ,  8.45519982,\n",
       "        8.52862924,  8.60198429,  8.67526398,  8.74846735,  8.82159343,\n",
       "        8.89464127,  8.96760994,  9.04049849,  9.113306  ,  9.18603156,\n",
       "        9.25867424,  9.33123316,  9.40370739,  9.47609607,  9.5483983 ,\n",
       "        9.6206132 ,  9.6927399 ,  9.76477753,  9.83672524,  9.90858216,\n",
       "        9.98034744, 10.05202024, 10.12359972, 10.19508504, 10.26647538,\n",
       "       10.33776989, 10.40896777, 10.48006818, 10.55107033, 10.6219734 ,\n",
       "       10.69277658, 10.76347907, 10.83408007, 10.90457879, 10.97497444,\n",
       "       11.04526623, 11.11545338, 11.1855351 , 11.25551062, 11.32537917,\n",
       "       11.39513997, 11.46479226, 11.53433527, 11.60376824, 11.67309041,\n",
       "       11.74230103, 11.81139934, 11.8803846 , 11.94925605, 12.01801295,\n",
       "       12.08665457, 12.15518016, 12.22358898, 12.2918803 , 12.36005339,\n",
       "       12.42810753, 12.49604197, 12.56385601, 12.63154891, 12.69911996,\n",
       "       12.76656845, 12.83389365, 12.90109486, 12.96817136, 13.03512245,\n",
       "       13.10194742, 13.16864557, 13.2352162 , 13.3016586 , 13.36797209,\n",
       "       13.43415596, 13.50020952, 13.56613209, 13.63192298, 13.69758149,\n",
       "       13.76310695, 13.82849867, 13.89375598, 13.95887819, 14.02386462,\n",
       "       14.08871461, 14.15342748, 14.21800257, 14.28243919, 14.3467367 ,\n",
       "       14.41089442, 14.47491168, 14.53878784, 14.60252223, 14.6661142 ,\n",
       "       14.72956308, 14.79286824, 14.85602901, 14.91904475, 14.98191481,\n",
       "       15.04463855, 15.10721532, 15.16964449, 15.2319254 , 15.29405743,\n",
       "       15.35603994, 15.4178723 , 15.47955387, 15.54108402, 15.60246213,\n",
       "       15.66368756, 15.7247597 , 15.78567793, 15.84644161, 15.90705014,\n",
       "       15.96750289, 16.02779925, 16.08793861, 16.14792035, 16.20774386,\n",
       "       16.26740855, 16.3269138 , 16.386259  , 16.44544356, 16.50446687,\n",
       "       16.56332834, 16.62202737, 16.68056336, 16.73893573, 16.79714387,\n",
       "       16.85518721, 16.91306515, 16.97077711, 17.0283225 , 17.08570075,\n",
       "       17.14291126, 17.19995348, 17.25682681, 17.31353068, 17.37006452,\n",
       "       17.42642777, 17.48261985, 17.53864019, 17.59448823, 17.65016341,\n",
       "       17.70566516, 17.76099293, 17.81614616, 17.87112429, 17.92592677,\n",
       "       17.98055304, 18.03500257, 18.08927479, 18.14336916, 18.19728514,\n",
       "       18.25102219, 18.30457977, 18.35795733, 18.41115434, 18.46417027,\n",
       "       18.51700458, 18.56965674, 18.62212623, 18.67441251, 18.72651507,\n",
       "       18.77843337, 18.8301669 , 18.88171513, 18.93307756, 18.98425366,\n",
       "       19.03524292, 19.08604483, 19.13665888, 19.18708456, 19.23732137,\n",
       "       19.28736881, 19.33722636, 19.38689354, 19.43636984, 19.48565477,\n",
       "       19.53474784, 19.58364854, 19.6323564 , 19.68087093, 19.72919163,\n",
       "       19.77731804, 19.82524965, 19.872986  , 19.9205266 , 19.96787099,\n",
       "       20.01501868, 20.06196921, 20.1087221 , 20.15527689, 20.20163312,\n",
       "       20.24779031, 20.29374801, 20.33950575, 20.38506309, 20.43041955,\n",
       "       20.4755747 , 20.52052808, 20.56527924, 20.60982774, 20.65417312,\n",
       "       20.69831494, 20.74225277, 20.78598617, 20.82951469, 20.87283791,\n",
       "       20.91595538, 20.95886669, 21.0015714 , 21.04406908, 21.08635931,\n",
       "       21.12844168, 21.17031575, 21.21198111, 21.25343734, 21.29468404,\n",
       "       21.33572079, 21.37654717, 21.41716279, 21.45756723, 21.4977601 ,\n",
       "       21.53774099, 21.57750951, 21.61706525, 21.65640783, 21.69553684,\n",
       "       21.73445191, 21.77315264, 21.81163864, 21.84990954, 21.88796495,\n",
       "       21.92580449, 21.96342778, 22.00083445, 22.03802413, 22.07499644,\n",
       "       22.11175102, 22.14828751, 22.18460552, 22.22070472, 22.25658472,\n",
       "       22.29224519, 22.32768575, 22.36290607, 22.39790578, 22.43268454,\n",
       "       22.467242  , 22.50157782, 22.53569166, 22.56958318, 22.60325203,\n",
       "       22.63669789, 22.66992041, 22.70291928, 22.73569416, 22.76824472,\n",
       "       22.80057064, 22.8326716 , 22.86454728, 22.89619736, 22.92762152,\n",
       "       22.95881946, 22.98979086, 23.02053542, 23.05105282, 23.08134277,\n",
       "       23.11140496, 23.1412391 , 23.17084488, 23.20022201, 23.2293702 ,\n",
       "       23.25828916, 23.28697861, 23.31543825, 23.3436678 , 23.37166698,\n",
       "       23.39943552, 23.42697314, 23.45427955, 23.4813545 , 23.50819771,\n",
       "       23.53480892, 23.56118785, 23.58733425, 23.61324786, 23.63892842,\n",
       "       23.66437567, 23.68958937, 23.71456925, 23.73931507, 23.76382659,\n",
       "       23.78810356, 23.81214574, 23.8359529 , 23.85952478, 23.88286117,\n",
       "       23.90596182, 23.92882651, 23.95145501, 23.9738471 , 23.99600255,\n",
       "       24.01792114, 24.03960265, 24.06104687, 24.08225359, 24.10322259,\n",
       "       24.12395367, 24.14444662, 24.16470123, 24.18471731, 24.20449466,\n",
       "       24.22403307, 24.24333235, 24.26239232, 24.28121279, 24.29979356,\n",
       "       24.31813445, 24.33623527, 24.35409586, 24.37171603, 24.38909561,\n",
       "       24.40623442, 24.42313229, 24.43978905, 24.45620455, 24.47237861,\n",
       "       24.48831108, 24.50400179, 24.5194506 , 24.53465734, 24.54962187,\n",
       "       24.56434404, 24.5788237 , 24.59306071, 24.60705492, 24.62080619,\n",
       "       24.6343144 , 24.64757941, 24.66060107, 24.67337928, 24.68591389,\n",
       "       24.69820478, 24.71025183, 24.72205493, 24.73361394, 24.74492877,\n",
       "       24.75599929, 24.7668254 , 24.77740699, 24.78774395, 24.79783618,\n",
       "       24.80768359, 24.81728606, 24.82664351, 24.83575585, 24.84462298,\n",
       "       24.85324482, 24.86162127, 24.86975226, 24.87763771, 24.88527754,\n",
       "       24.89267166, 24.89982002, 24.90672253, 24.91337913, 24.91978975,\n",
       "       24.92595433, 24.93187281, 24.93754513, 24.94297123, 24.94815105,\n",
       "       24.95308456, 24.95777169, 24.9622124 , 24.96640665, 24.97035439,\n",
       "       24.97405559, 24.97751021, 24.98071822, 24.98367957, 24.98639426,\n",
       "       24.98886223, 24.99108348, 24.99305798, 24.99478571, 24.99626666,\n",
       "       24.9975008 , 24.99848813, 24.99922863, 24.99972231, 24.99996915,\n",
       "       24.99996915, 24.99972231, 24.99922863, 24.99848813, 24.9975008 ,\n",
       "       24.99626666, 24.99478571, 24.99305798, 24.99108348, 24.98886223,\n",
       "       24.98639426, 24.98367957, 24.98071822, 24.97751021, 24.97405559,\n",
       "       24.97035439, 24.96640665, 24.9622124 , 24.95777169, 24.95308456,\n",
       "       24.94815105, 24.94297123, 24.93754513, 24.93187281, 24.92595433,\n",
       "       24.91978975, 24.91337913, 24.90672253, 24.89982002, 24.89267166,\n",
       "       24.88527754, 24.87763771, 24.86975226, 24.86162127, 24.85324482,\n",
       "       24.84462298, 24.83575585, 24.82664351, 24.81728606, 24.80768359,\n",
       "       24.79783618, 24.78774395, 24.77740699, 24.7668254 , 24.75599929,\n",
       "       24.74492877, 24.73361394, 24.72205493, 24.71025183, 24.69820478,\n",
       "       24.68591389, 24.67337928, 24.66060107, 24.64757941, 24.6343144 ,\n",
       "       24.62080619, 24.60705492, 24.59306071, 24.5788237 , 24.56434404,\n",
       "       24.54962187, 24.53465734, 24.5194506 , 24.50400179, 24.48831108,\n",
       "       24.47237861, 24.45620455, 24.43978905, 24.42313229, 24.40623442,\n",
       "       24.38909561, 24.37171603, 24.35409586, 24.33623527, 24.31813445,\n",
       "       24.29979356, 24.28121279, 24.26239232, 24.24333235, 24.22403307,\n",
       "       24.20449466, 24.18471731, 24.16470123, 24.14444662, 24.12395367,\n",
       "       24.10322259, 24.08225359, 24.06104687, 24.03960265, 24.01792114,\n",
       "       23.99600255, 23.9738471 , 23.95145501, 23.92882651, 23.90596182,\n",
       "       23.88286117, 23.85952478, 23.8359529 , 23.81214574, 23.78810356,\n",
       "       23.76382659, 23.73931507, 23.71456925, 23.68958937, 23.66437567,\n",
       "       23.63892842, 23.61324786, 23.58733425, 23.56118785, 23.53480892,\n",
       "       23.50819771, 23.4813545 , 23.45427955, 23.42697314, 23.39943552,\n",
       "       23.37166698, 23.3436678 , 23.31543825, 23.28697861, 23.25828916,\n",
       "       23.2293702 , 23.20022201, 23.17084488, 23.1412391 , 23.11140496,\n",
       "       23.08134277, 23.05105282, 23.02053542, 22.98979086, 22.95881946,\n",
       "       22.92762152, 22.89619736, 22.86454728, 22.8326716 , 22.80057064,\n",
       "       22.76824472, 22.73569416, 22.70291928, 22.66992041, 22.63669789,\n",
       "       22.60325203, 22.56958318, 22.53569166, 22.50157782, 22.467242  ,\n",
       "       22.43268454, 22.39790578, 22.36290607, 22.32768575, 22.29224519,\n",
       "       22.25658472, 22.22070472, 22.18460552, 22.14828751, 22.11175102,\n",
       "       22.07499644, 22.03802413, 22.00083445, 21.96342778, 21.92580449,\n",
       "       21.88796495, 21.84990954, 21.81163864, 21.77315264, 21.73445191,\n",
       "       21.69553684, 21.65640783, 21.61706525, 21.57750951, 21.53774099,\n",
       "       21.4977601 , 21.45756723, 21.41716279, 21.37654717, 21.33572079,\n",
       "       21.29468404, 21.25343734, 21.21198111, 21.17031575, 21.12844168,\n",
       "       21.08635931, 21.04406908, 21.0015714 , 20.95886669, 20.91595538,\n",
       "       20.87283791, 20.82951469, 20.78598617, 20.74225277, 20.69831494,\n",
       "       20.65417312, 20.60982774, 20.56527924, 20.52052808, 20.4755747 ,\n",
       "       20.43041955, 20.38506309, 20.33950575, 20.29374801, 20.24779031,\n",
       "       20.20163312, 20.15527689, 20.1087221 , 20.06196921, 20.01501868,\n",
       "       19.96787099, 19.9205266 , 19.872986  , 19.82524965, 19.77731804,\n",
       "       19.72919163, 19.68087093, 19.6323564 , 19.58364854, 19.53474784,\n",
       "       19.48565477, 19.43636984, 19.38689354, 19.33722636, 19.28736881,\n",
       "       19.23732137, 19.18708456, 19.13665888, 19.08604483, 19.03524292,\n",
       "       18.98425366, 18.93307756, 18.88171513, 18.8301669 , 18.77843337,\n",
       "       18.72651507, 18.67441251, 18.62212623, 18.56965674, 18.51700458,\n",
       "       18.46417027, 18.41115434, 18.35795733, 18.30457977, 18.25102219,\n",
       "       18.19728514, 18.14336916, 18.08927479, 18.03500257, 17.98055304,\n",
       "       17.92592677, 17.87112429, 17.81614616, 17.76099293, 17.70566516,\n",
       "       17.65016341, 17.59448823, 17.53864019, 17.48261985, 17.42642777,\n",
       "       17.37006452, 17.31353068, 17.25682681, 17.19995348, 17.14291126,\n",
       "       17.08570075, 17.0283225 , 16.97077711, 16.91306515, 16.85518721,\n",
       "       16.79714387, 16.73893573, 16.68056336, 16.62202737, 16.56332834,\n",
       "       16.50446687, 16.44544356, 16.386259  , 16.3269138 , 16.26740855,\n",
       "       16.20774386, 16.14792035, 16.08793861, 16.02779925, 15.96750289,\n",
       "       15.90705014, 15.84644161, 15.78567793, 15.7247597 , 15.66368756,\n",
       "       15.60246213, 15.54108402, 15.47955387, 15.4178723 , 15.35603994,\n",
       "       15.29405743, 15.2319254 , 15.16964449, 15.10721532, 15.04463855,\n",
       "       14.98191481, 14.91904475, 14.85602901, 14.79286824, 14.72956308,\n",
       "       14.6661142 , 14.60252223, 14.53878784, 14.47491168, 14.41089442,\n",
       "       14.3467367 , 14.28243919, 14.21800257, 14.15342748, 14.08871461,\n",
       "       14.02386462, 13.95887819, 13.89375598, 13.82849867, 13.76310695,\n",
       "       13.69758149, 13.63192298, 13.56613209, 13.50020952, 13.43415596,\n",
       "       13.36797209, 13.3016586 , 13.2352162 , 13.16864557, 13.10194742,\n",
       "       13.03512245, 12.96817136, 12.90109486, 12.83389365, 12.76656845,\n",
       "       12.69911996, 12.63154891, 12.56385601, 12.49604197, 12.42810753,\n",
       "       12.36005339, 12.2918803 , 12.22358898, 12.15518016, 12.08665457,\n",
       "       12.01801295, 11.94925605, 11.8803846 , 11.81139934, 11.74230103,\n",
       "       11.67309041, 11.60376824, 11.53433527, 11.46479226, 11.39513997,\n",
       "       11.32537917, 11.25551062, 11.1855351 , 11.11545338, 11.04526623,\n",
       "       10.97497444, 10.90457879, 10.83408007, 10.76347907, 10.69277658,\n",
       "       10.6219734 , 10.55107033, 10.48006818, 10.40896777, 10.33776989,\n",
       "       10.26647538, 10.19508504, 10.12359972, 10.05202024,  9.98034744,\n",
       "        9.90858216,  9.83672524,  9.76477753,  9.6927399 ,  9.6206132 ,\n",
       "        9.5483983 ,  9.47609607,  9.40370739,  9.33123316,  9.25867424,\n",
       "        9.18603156,  9.113306  ,  9.04049849,  8.96760994,  8.89464127,\n",
       "        8.82159343,  8.74846735,  8.67526398,  8.60198429,  8.52862924,\n",
       "        8.45519982,  8.381697  ,  8.3081218 ,  8.2344752 ,  8.16075825,\n",
       "        8.08697196,  8.01311739,  7.93919559,  7.86520762,  7.79115458,\n",
       "        7.71703756,  7.64285767,  7.56861605,  7.49431383,  7.41995219,\n",
       "        7.3455323 ,  7.27105536,  7.1965226 ,  7.12193525,  7.04729459,\n",
       "        6.97260189,  6.89785847,  6.82306567,  6.74822486,  6.67333743,\n",
       "        6.5984048 ,  6.52342844,  6.44840983,  6.37335051,  6.29825203,\n",
       "        6.22311602,  6.14794411,  6.072738  ,  5.99749944,  5.92223023,\n",
       "        5.84693221,  5.77160729,  5.69625745,  5.62088473,  5.54549123,\n",
       "        5.47007913,  5.39465072,  5.31920833,  5.24375441,  5.16829151,\n",
       "        5.09282228,  5.01734949,  4.94187603,  4.86640492,  4.79093933,\n",
       "        4.71548258,  4.64003816,  4.56460974,  4.48920119,  4.41381657,\n",
       "        4.33846021,  4.26313666,  4.18785075,  4.1126076 ,  4.03741267,\n",
       "        3.96227176,  3.88719106,  3.81217718,  3.73723722,  3.66237876,\n",
       "        3.58760995,  3.51293957,  3.43837709,  3.36393273,  3.28961755,\n",
       "        3.21544355,  3.14142376,  3.06757239,  2.99390493,  2.92043832,\n",
       "        2.84719112,  2.77418373,  2.70143859,  2.62898048,  2.55683677,\n",
       "        2.48503784,  2.41361741,  2.34261306,  2.27206675,  2.20202541,\n",
       "        2.1325417 ,  2.06367485,  1.99549159,  1.92806727,  1.86148718,\n",
       "        1.79584799,  1.73125948,  1.66784641,  1.60575071,  1.54513381,\n",
       "        1.48617921,  1.42909513,  1.37411709,  1.32151029,  1.27157127,\n",
       "        1.22462853,  1.18104136,  1.14119614,  1.10549922,  1.07436563,\n",
       "        1.04820337,  1.02739334,  1.01226654,  1.00308073,  1.        ])"
      ]
     },
     "execution_count": 208,
     "metadata": {},
     "output_type": "execute_result"
    }
   ],
   "source": [
    "Efk"
   ]
  },
  {
   "cell_type": "code",
   "execution_count": 209,
   "id": "4867c5fa",
   "metadata": {},
   "outputs": [
    {
     "data": {
      "text/plain": [
       "0.007015277050193391"
      ]
     },
     "execution_count": 209,
     "metadata": {},
     "output_type": "execute_result"
    }
   ],
   "source": [
    "min(abs(cos_delta_k))"
   ]
  },
  {
   "cell_type": "code",
   "execution_count": 210,
   "id": "e2ba9e8d",
   "metadata": {},
   "outputs": [
    {
     "data": {
      "text/plain": [
       "(array([25], dtype=int64),)"
      ]
     },
     "execution_count": 210,
     "metadata": {},
     "output_type": "execute_result"
    }
   ],
   "source": [
    "np.where(abs(cos_delta_k) == min(abs(cos_delta_k)))"
   ]
  },
  {
   "cell_type": "code",
   "execution_count": 211,
   "id": "50653bc6",
   "metadata": {},
   "outputs": [
    {
     "data": {
      "text/plain": [
       "0.7614368924068418"
      ]
     },
     "execution_count": 211,
     "metadata": {},
     "output_type": "execute_result"
    }
   ],
   "source": [
    "cos_delta_k[80]"
   ]
  },
  {
   "cell_type": "code",
   "execution_count": 212,
   "id": "8cae067b",
   "metadata": {},
   "outputs": [
    {
     "data": {
      "text/plain": [
       "0.05503359242062322"
      ]
     },
     "execution_count": 212,
     "metadata": {},
     "output_type": "execute_result"
    }
   ],
   "source": [
    "cos_delta_k[27]"
   ]
  },
  {
   "cell_type": "code",
   "execution_count": 213,
   "id": "ac985c12",
   "metadata": {
    "collapsed": true
   },
   "outputs": [
    {
     "data": {
      "text/plain": [
       "array([ 1.        ,  1.00308073,  1.01226654,  1.02739334,  1.04820337,\n",
       "        1.07436563,  1.10549922,  1.14119614,  1.18104136,  1.22462853,\n",
       "        1.27157127,  1.32151029,  1.37411709,  1.42909513,  1.48617921,\n",
       "        1.54513381,  1.60575071,  1.66784641,  1.73125948,  1.79584799,\n",
       "        1.86148718,  1.92806727,  1.99549159,  2.06367485,  2.1325417 ,\n",
       "        2.20202541,  2.27206675,  2.34261306,  2.41361741,  2.48503784,\n",
       "        2.55683677,  2.62898048,  2.70143859,  2.77418373,  2.84719112,\n",
       "        2.92043832,  2.99390493,  3.06757239,  3.14142376,  3.21544355,\n",
       "        3.28961755,  3.36393273,  3.43837709,  3.51293957,  3.58760995,\n",
       "        3.66237876,  3.73723722,  3.81217718,  3.88719106,  3.96227176,\n",
       "        4.03741267,  4.1126076 ,  4.18785075,  4.26313666,  4.33846021,\n",
       "        4.41381657,  4.48920119,  4.56460974,  4.64003816,  4.71548258,\n",
       "        4.79093933,  4.86640492,  4.94187603,  5.01734949,  5.09282228,\n",
       "        5.16829151,  5.24375441,  5.31920833,  5.39465072,  5.47007913,\n",
       "        5.54549123,  5.62088473,  5.69625745,  5.77160729,  5.84693221,\n",
       "        5.92223023,  5.99749944,  6.072738  ,  6.14794411,  6.22311602,\n",
       "        6.29825203,  6.37335051,  6.44840983,  6.52342844,  6.5984048 ,\n",
       "        6.67333743,  6.74822486,  6.82306567,  6.89785847,  6.97260189,\n",
       "        7.04729459,  7.12193525,  7.1965226 ,  7.27105536,  7.3455323 ,\n",
       "        7.41995219,  7.49431383,  7.56861605,  7.64285767,  7.71703756,\n",
       "        7.79115458,  7.86520762,  7.93919559,  8.01311739,  8.08697196,\n",
       "        8.16075825,  8.2344752 ,  8.3081218 ,  8.381697  ,  8.45519982,\n",
       "        8.52862924,  8.60198429,  8.67526398,  8.74846735,  8.82159343,\n",
       "        8.89464127,  8.96760994,  9.04049849,  9.113306  ,  9.18603156,\n",
       "        9.25867424,  9.33123316,  9.40370739,  9.47609607,  9.5483983 ,\n",
       "        9.6206132 ,  9.6927399 ,  9.76477753,  9.83672524,  9.90858216,\n",
       "        9.98034744, 10.05202024, 10.12359972, 10.19508504, 10.26647538,\n",
       "       10.33776989, 10.40896777, 10.48006818, 10.55107033, 10.6219734 ,\n",
       "       10.69277658, 10.76347907, 10.83408007, 10.90457879, 10.97497444,\n",
       "       11.04526623, 11.11545338, 11.1855351 , 11.25551062, 11.32537917,\n",
       "       11.39513997, 11.46479226, 11.53433527, 11.60376824, 11.67309041,\n",
       "       11.74230103, 11.81139934, 11.8803846 , 11.94925605, 12.01801295,\n",
       "       12.08665457, 12.15518016, 12.22358898, 12.2918803 , 12.36005339,\n",
       "       12.42810753, 12.49604197, 12.56385601, 12.63154891, 12.69911996,\n",
       "       12.76656845, 12.83389365, 12.90109486, 12.96817136, 13.03512245,\n",
       "       13.10194742, 13.16864557, 13.2352162 , 13.3016586 , 13.36797209,\n",
       "       13.43415596, 13.50020952, 13.56613209, 13.63192298, 13.69758149,\n",
       "       13.76310695, 13.82849867, 13.89375598, 13.95887819, 14.02386462,\n",
       "       14.08871461, 14.15342748, 14.21800257, 14.28243919, 14.3467367 ,\n",
       "       14.41089442, 14.47491168, 14.53878784, 14.60252223, 14.6661142 ,\n",
       "       14.72956308, 14.79286824, 14.85602901, 14.91904475, 14.98191481,\n",
       "       15.04463855, 15.10721532, 15.16964449, 15.2319254 , 15.29405743,\n",
       "       15.35603994, 15.4178723 , 15.47955387, 15.54108402, 15.60246213,\n",
       "       15.66368756, 15.7247597 , 15.78567793, 15.84644161, 15.90705014,\n",
       "       15.96750289, 16.02779925, 16.08793861, 16.14792035, 16.20774386,\n",
       "       16.26740855, 16.3269138 , 16.386259  , 16.44544356, 16.50446687,\n",
       "       16.56332834, 16.62202737, 16.68056336, 16.73893573, 16.79714387,\n",
       "       16.85518721, 16.91306515, 16.97077711, 17.0283225 , 17.08570075,\n",
       "       17.14291126, 17.19995348, 17.25682681, 17.31353068, 17.37006452,\n",
       "       17.42642777, 17.48261985, 17.53864019, 17.59448823, 17.65016341,\n",
       "       17.70566516, 17.76099293, 17.81614616, 17.87112429, 17.92592677,\n",
       "       17.98055304, 18.03500257, 18.08927479, 18.14336916, 18.19728514,\n",
       "       18.25102219, 18.30457977, 18.35795733, 18.41115434, 18.46417027,\n",
       "       18.51700458, 18.56965674, 18.62212623, 18.67441251, 18.72651507,\n",
       "       18.77843337, 18.8301669 , 18.88171513, 18.93307756, 18.98425366,\n",
       "       19.03524292, 19.08604483, 19.13665888, 19.18708456, 19.23732137,\n",
       "       19.28736881, 19.33722636, 19.38689354, 19.43636984, 19.48565477,\n",
       "       19.53474784, 19.58364854, 19.6323564 , 19.68087093, 19.72919163,\n",
       "       19.77731804, 19.82524965, 19.872986  , 19.9205266 , 19.96787099,\n",
       "       20.01501868, 20.06196921, 20.1087221 , 20.15527689, 20.20163312,\n",
       "       20.24779031, 20.29374801, 20.33950575, 20.38506309, 20.43041955,\n",
       "       20.4755747 , 20.52052808, 20.56527924, 20.60982774, 20.65417312,\n",
       "       20.69831494, 20.74225277, 20.78598617, 20.82951469, 20.87283791,\n",
       "       20.91595538, 20.95886669, 21.0015714 , 21.04406908, 21.08635931,\n",
       "       21.12844168, 21.17031575, 21.21198111, 21.25343734, 21.29468404,\n",
       "       21.33572079, 21.37654717, 21.41716279, 21.45756723, 21.4977601 ,\n",
       "       21.53774099, 21.57750951, 21.61706525, 21.65640783, 21.69553684,\n",
       "       21.73445191, 21.77315264, 21.81163864, 21.84990954, 21.88796495,\n",
       "       21.92580449, 21.96342778, 22.00083445, 22.03802413, 22.07499644,\n",
       "       22.11175102, 22.14828751, 22.18460552, 22.22070472, 22.25658472,\n",
       "       22.29224519, 22.32768575, 22.36290607, 22.39790578, 22.43268454,\n",
       "       22.467242  , 22.50157782, 22.53569166, 22.56958318, 22.60325203,\n",
       "       22.63669789, 22.66992041, 22.70291928, 22.73569416, 22.76824472,\n",
       "       22.80057064, 22.8326716 , 22.86454728, 22.89619736, 22.92762152,\n",
       "       22.95881946, 22.98979086, 23.02053542, 23.05105282, 23.08134277,\n",
       "       23.11140496, 23.1412391 , 23.17084488, 23.20022201, 23.2293702 ,\n",
       "       23.25828916, 23.28697861, 23.31543825, 23.3436678 , 23.37166698,\n",
       "       23.39943552, 23.42697314, 23.45427955, 23.4813545 , 23.50819771,\n",
       "       23.53480892, 23.56118785, 23.58733425, 23.61324786, 23.63892842,\n",
       "       23.66437567, 23.68958937, 23.71456925, 23.73931507, 23.76382659,\n",
       "       23.78810356, 23.81214574, 23.8359529 , 23.85952478, 23.88286117,\n",
       "       23.90596182, 23.92882651, 23.95145501, 23.9738471 , 23.99600255,\n",
       "       24.01792114, 24.03960265, 24.06104687, 24.08225359, 24.10322259,\n",
       "       24.12395367, 24.14444662, 24.16470123, 24.18471731, 24.20449466,\n",
       "       24.22403307, 24.24333235, 24.26239232, 24.28121279, 24.29979356,\n",
       "       24.31813445, 24.33623527, 24.35409586, 24.37171603, 24.38909561,\n",
       "       24.40623442, 24.42313229, 24.43978905, 24.45620455, 24.47237861,\n",
       "       24.48831108, 24.50400179, 24.5194506 , 24.53465734, 24.54962187,\n",
       "       24.56434404, 24.5788237 , 24.59306071, 24.60705492, 24.62080619,\n",
       "       24.6343144 , 24.64757941, 24.66060107, 24.67337928, 24.68591389,\n",
       "       24.69820478, 24.71025183, 24.72205493, 24.73361394, 24.74492877,\n",
       "       24.75599929, 24.7668254 , 24.77740699, 24.78774395, 24.79783618,\n",
       "       24.80768359, 24.81728606, 24.82664351, 24.83575585, 24.84462298,\n",
       "       24.85324482, 24.86162127, 24.86975226, 24.87763771, 24.88527754,\n",
       "       24.89267166, 24.89982002, 24.90672253, 24.91337913, 24.91978975,\n",
       "       24.92595433, 24.93187281, 24.93754513, 24.94297123, 24.94815105,\n",
       "       24.95308456, 24.95777169, 24.9622124 , 24.96640665, 24.97035439,\n",
       "       24.97405559, 24.97751021, 24.98071822, 24.98367957, 24.98639426,\n",
       "       24.98886223, 24.99108348, 24.99305798, 24.99478571, 24.99626666,\n",
       "       24.9975008 , 24.99848813, 24.99922863, 24.99972231, 24.99996915,\n",
       "       24.99996915, 24.99972231, 24.99922863, 24.99848813, 24.9975008 ,\n",
       "       24.99626666, 24.99478571, 24.99305798, 24.99108348, 24.98886223,\n",
       "       24.98639426, 24.98367957, 24.98071822, 24.97751021, 24.97405559,\n",
       "       24.97035439, 24.96640665, 24.9622124 , 24.95777169, 24.95308456,\n",
       "       24.94815105, 24.94297123, 24.93754513, 24.93187281, 24.92595433,\n",
       "       24.91978975, 24.91337913, 24.90672253, 24.89982002, 24.89267166,\n",
       "       24.88527754, 24.87763771, 24.86975226, 24.86162127, 24.85324482,\n",
       "       24.84462298, 24.83575585, 24.82664351, 24.81728606, 24.80768359,\n",
       "       24.79783618, 24.78774395, 24.77740699, 24.7668254 , 24.75599929,\n",
       "       24.74492877, 24.73361394, 24.72205493, 24.71025183, 24.69820478,\n",
       "       24.68591389, 24.67337928, 24.66060107, 24.64757941, 24.6343144 ,\n",
       "       24.62080619, 24.60705492, 24.59306071, 24.5788237 , 24.56434404,\n",
       "       24.54962187, 24.53465734, 24.5194506 , 24.50400179, 24.48831108,\n",
       "       24.47237861, 24.45620455, 24.43978905, 24.42313229, 24.40623442,\n",
       "       24.38909561, 24.37171603, 24.35409586, 24.33623527, 24.31813445,\n",
       "       24.29979356, 24.28121279, 24.26239232, 24.24333235, 24.22403307,\n",
       "       24.20449466, 24.18471731, 24.16470123, 24.14444662, 24.12395367,\n",
       "       24.10322259, 24.08225359, 24.06104687, 24.03960265, 24.01792114,\n",
       "       23.99600255, 23.9738471 , 23.95145501, 23.92882651, 23.90596182,\n",
       "       23.88286117, 23.85952478, 23.8359529 , 23.81214574, 23.78810356,\n",
       "       23.76382659, 23.73931507, 23.71456925, 23.68958937, 23.66437567,\n",
       "       23.63892842, 23.61324786, 23.58733425, 23.56118785, 23.53480892,\n",
       "       23.50819771, 23.4813545 , 23.45427955, 23.42697314, 23.39943552,\n",
       "       23.37166698, 23.3436678 , 23.31543825, 23.28697861, 23.25828916,\n",
       "       23.2293702 , 23.20022201, 23.17084488, 23.1412391 , 23.11140496,\n",
       "       23.08134277, 23.05105282, 23.02053542, 22.98979086, 22.95881946,\n",
       "       22.92762152, 22.89619736, 22.86454728, 22.8326716 , 22.80057064,\n",
       "       22.76824472, 22.73569416, 22.70291928, 22.66992041, 22.63669789,\n",
       "       22.60325203, 22.56958318, 22.53569166, 22.50157782, 22.467242  ,\n",
       "       22.43268454, 22.39790578, 22.36290607, 22.32768575, 22.29224519,\n",
       "       22.25658472, 22.22070472, 22.18460552, 22.14828751, 22.11175102,\n",
       "       22.07499644, 22.03802413, 22.00083445, 21.96342778, 21.92580449,\n",
       "       21.88796495, 21.84990954, 21.81163864, 21.77315264, 21.73445191,\n",
       "       21.69553684, 21.65640783, 21.61706525, 21.57750951, 21.53774099,\n",
       "       21.4977601 , 21.45756723, 21.41716279, 21.37654717, 21.33572079,\n",
       "       21.29468404, 21.25343734, 21.21198111, 21.17031575, 21.12844168,\n",
       "       21.08635931, 21.04406908, 21.0015714 , 20.95886669, 20.91595538,\n",
       "       20.87283791, 20.82951469, 20.78598617, 20.74225277, 20.69831494,\n",
       "       20.65417312, 20.60982774, 20.56527924, 20.52052808, 20.4755747 ,\n",
       "       20.43041955, 20.38506309, 20.33950575, 20.29374801, 20.24779031,\n",
       "       20.20163312, 20.15527689, 20.1087221 , 20.06196921, 20.01501868,\n",
       "       19.96787099, 19.9205266 , 19.872986  , 19.82524965, 19.77731804,\n",
       "       19.72919163, 19.68087093, 19.6323564 , 19.58364854, 19.53474784,\n",
       "       19.48565477, 19.43636984, 19.38689354, 19.33722636, 19.28736881,\n",
       "       19.23732137, 19.18708456, 19.13665888, 19.08604483, 19.03524292,\n",
       "       18.98425366, 18.93307756, 18.88171513, 18.8301669 , 18.77843337,\n",
       "       18.72651507, 18.67441251, 18.62212623, 18.56965674, 18.51700458,\n",
       "       18.46417027, 18.41115434, 18.35795733, 18.30457977, 18.25102219,\n",
       "       18.19728514, 18.14336916, 18.08927479, 18.03500257, 17.98055304,\n",
       "       17.92592677, 17.87112429, 17.81614616, 17.76099293, 17.70566516,\n",
       "       17.65016341, 17.59448823, 17.53864019, 17.48261985, 17.42642777,\n",
       "       17.37006452, 17.31353068, 17.25682681, 17.19995348, 17.14291126,\n",
       "       17.08570075, 17.0283225 , 16.97077711, 16.91306515, 16.85518721,\n",
       "       16.79714387, 16.73893573, 16.68056336, 16.62202737, 16.56332834,\n",
       "       16.50446687, 16.44544356, 16.386259  , 16.3269138 , 16.26740855,\n",
       "       16.20774386, 16.14792035, 16.08793861, 16.02779925, 15.96750289,\n",
       "       15.90705014, 15.84644161, 15.78567793, 15.7247597 , 15.66368756,\n",
       "       15.60246213, 15.54108402, 15.47955387, 15.4178723 , 15.35603994,\n",
       "       15.29405743, 15.2319254 , 15.16964449, 15.10721532, 15.04463855,\n",
       "       14.98191481, 14.91904475, 14.85602901, 14.79286824, 14.72956308,\n",
       "       14.6661142 , 14.60252223, 14.53878784, 14.47491168, 14.41089442,\n",
       "       14.3467367 , 14.28243919, 14.21800257, 14.15342748, 14.08871461,\n",
       "       14.02386462, 13.95887819, 13.89375598, 13.82849867, 13.76310695,\n",
       "       13.69758149, 13.63192298, 13.56613209, 13.50020952, 13.43415596,\n",
       "       13.36797209, 13.3016586 , 13.2352162 , 13.16864557, 13.10194742,\n",
       "       13.03512245, 12.96817136, 12.90109486, 12.83389365, 12.76656845,\n",
       "       12.69911996, 12.63154891, 12.56385601, 12.49604197, 12.42810753,\n",
       "       12.36005339, 12.2918803 , 12.22358898, 12.15518016, 12.08665457,\n",
       "       12.01801295, 11.94925605, 11.8803846 , 11.81139934, 11.74230103,\n",
       "       11.67309041, 11.60376824, 11.53433527, 11.46479226, 11.39513997,\n",
       "       11.32537917, 11.25551062, 11.1855351 , 11.11545338, 11.04526623,\n",
       "       10.97497444, 10.90457879, 10.83408007, 10.76347907, 10.69277658,\n",
       "       10.6219734 , 10.55107033, 10.48006818, 10.40896777, 10.33776989,\n",
       "       10.26647538, 10.19508504, 10.12359972, 10.05202024,  9.98034744,\n",
       "        9.90858216,  9.83672524,  9.76477753,  9.6927399 ,  9.6206132 ,\n",
       "        9.5483983 ,  9.47609607,  9.40370739,  9.33123316,  9.25867424,\n",
       "        9.18603156,  9.113306  ,  9.04049849,  8.96760994,  8.89464127,\n",
       "        8.82159343,  8.74846735,  8.67526398,  8.60198429,  8.52862924,\n",
       "        8.45519982,  8.381697  ,  8.3081218 ,  8.2344752 ,  8.16075825,\n",
       "        8.08697196,  8.01311739,  7.93919559,  7.86520762,  7.79115458,\n",
       "        7.71703756,  7.64285767,  7.56861605,  7.49431383,  7.41995219,\n",
       "        7.3455323 ,  7.27105536,  7.1965226 ,  7.12193525,  7.04729459,\n",
       "        6.97260189,  6.89785847,  6.82306567,  6.74822486,  6.67333743,\n",
       "        6.5984048 ,  6.52342844,  6.44840983,  6.37335051,  6.29825203,\n",
       "        6.22311602,  6.14794411,  6.072738  ,  5.99749944,  5.92223023,\n",
       "        5.84693221,  5.77160729,  5.69625745,  5.62088473,  5.54549123,\n",
       "        5.47007913,  5.39465072,  5.31920833,  5.24375441,  5.16829151,\n",
       "        5.09282228,  5.01734949,  4.94187603,  4.86640492,  4.79093933,\n",
       "        4.71548258,  4.64003816,  4.56460974,  4.48920119,  4.41381657,\n",
       "        4.33846021,  4.26313666,  4.18785075,  4.1126076 ,  4.03741267,\n",
       "        3.96227176,  3.88719106,  3.81217718,  3.73723722,  3.66237876,\n",
       "        3.58760995,  3.51293957,  3.43837709,  3.36393273,  3.28961755,\n",
       "        3.21544355,  3.14142376,  3.06757239,  2.99390493,  2.92043832,\n",
       "        2.84719112,  2.77418373,  2.70143859,  2.62898048,  2.55683677,\n",
       "        2.48503784,  2.41361741,  2.34261306,  2.27206675,  2.20202541,\n",
       "        2.1325417 ,  2.06367485,  1.99549159,  1.92806727,  1.86148718,\n",
       "        1.79584799,  1.73125948,  1.66784641,  1.60575071,  1.54513381,\n",
       "        1.48617921,  1.42909513,  1.37411709,  1.32151029,  1.27157127,\n",
       "        1.22462853,  1.18104136,  1.14119614,  1.10549922,  1.07436563,\n",
       "        1.04820337,  1.02739334,  1.01226654,  1.00308073,  1.        ])"
      ]
     },
     "execution_count": 213,
     "metadata": {},
     "output_type": "execute_result"
    }
   ],
   "source": [
    "Efk"
   ]
  },
  {
   "cell_type": "code",
   "execution_count": 214,
   "id": "d64924e8",
   "metadata": {},
   "outputs": [
    {
     "data": {
      "text/plain": [
       "(array([0.98638384, 0.16445946]), array([-0.76621431,  0.64258511]))"
      ]
     },
     "execution_count": 214,
     "metadata": {},
     "output_type": "execute_result"
    }
   ],
   "source": [
    "di[10]/(np.sqrt(di[10,0]**2 + di[10,1]**2)) , df[10]/(np.sqrt(df[10,0]**2 + df[10,1]**2))"
   ]
  },
  {
   "cell_type": "code",
   "execution_count": 215,
   "id": "81d45914",
   "metadata": {},
   "outputs": [
    {
     "data": {
      "text/plain": [
       "array([1.+2.j, 0.+0.j])"
      ]
     },
     "execution_count": 215,
     "metadata": {},
     "output_type": "execute_result"
    }
   ],
   "source": [
    "np.array([complex(1,2) , 0])"
   ]
  },
  {
   "cell_type": "code",
   "execution_count": 216,
   "id": "97ebeed1",
   "metadata": {},
   "outputs": [
    {
     "data": {
      "text/plain": [
       "0.8438394563456443"
      ]
     },
     "execution_count": 216,
     "metadata": {},
     "output_type": "execute_result"
    }
   ],
   "source": [
    "pi/(2*Efk[20])"
   ]
  },
  {
   "cell_type": "code",
   "execution_count": null,
   "id": "7cf55094",
   "metadata": {},
   "outputs": [],
   "source": []
  },
  {
   "cell_type": "code",
   "execution_count": 218,
   "id": "82f45c6f",
   "metadata": {},
   "outputs": [
    {
     "data": {
      "text/plain": [
       "[<matplotlib.lines.Line2D at 0x26ba9da9940>]"
      ]
     },
     "execution_count": 218,
     "metadata": {},
     "output_type": "execute_result"
    },
    {
     "data": {
      "image/png": "[encoded data removed]",
      "text/plain": [
       "<Figure size 640x480 with 1 Axes>"
      ]
     },
     "metadata": {},
     "output_type": "display_data"
    }
   ],
   "source": [
    "plt.plot(Efk)"
   ]
  },
  {
   "cell_type": "code",
   "execution_count": 174,
   "id": "d606ec91",
   "metadata": {},
   "outputs": [
    {
     "data": {
      "text/plain": [
       "[<matplotlib.lines.Line2D at 0x26ba9b6ba00>]"
      ]
     },
     "execution_count": 174,
     "metadata": {},
     "output_type": "execute_result"
    },
    {
     "data": {
      "image/png": "[encoded data removed]",
      "text/plain": [
       "<Figure size 640x480 with 1 Axes>"
      ]
     },
     "metadata": {},
     "output_type": "display_data"
    }
   ],
   "source": [
    "vp = v(quench=True)\n",
    "vn = v()\n",
    "wp = w(quench=True)\n",
    "wn = w()\n",
    "\n",
    "dd = vn*vp + wn*wp + (wn*vp + vn*wp)*np.cos(k)\n",
    "denom = Eik*Efk\n",
    "\n",
    "plt.plot(dd/denom , '.')"
   ]
  },
  {
   "cell_type": "code",
   "execution_count": 170,
   "id": "6946c1de",
   "metadata": {},
   "outputs": [
    {
     "ename": "TypeError",
     "evalue": "can only concatenate tuple (not \"int\") to tuple",
     "output_type": "error",
     "traceback": [
      "\u001b[1;31m---------------------------------------------------------------------------\u001b[0m",
      "\u001b[1;31mTypeError\u001b[0m                                 Traceback (most recent call last)",
      "\u001b[1;32m~\\AppData\\Local\\Temp\\ipykernel_21484\\3595685754.py\u001b[0m in \u001b[0;36m<module>\u001b[1;34m\u001b[0m\n\u001b[1;32m----> 1\u001b[1;33m \u001b[1;33m(\u001b[0m\u001b[0mwn\u001b[0m\u001b[1;33m*\u001b[0m\u001b[0mvp\u001b[0m \u001b[1;33m+\u001b[0m \u001b[0mvn\u001b[0m\u001b[1;33m*\u001b[0m\u001b[0mwp\u001b[0m\u001b[1;33m)\u001b[0m\u001b[1;33m\u001b[0m\u001b[1;33m\u001b[0m\u001b[0m\n\u001b[0m",
      "\u001b[1;31mTypeError\u001b[0m: can only concatenate tuple (not \"int\") to tuple"
     ]
    }
   ],
   "source": [
    "(wn*vp + vn*wp)"
   ]
  },
  {
   "cell_type": "code",
   "execution_count": 173,
   "id": "80615aba",
   "metadata": {},
   "outputs": [
    {
     "data": {
      "text/plain": [
       "0.1386895361573503"
      ]
     },
     "execution_count": 173,
     "metadata": {},
     "output_type": "execute_result"
    }
   ],
   "source": [
    "min(abs(cos_delta_k))"
   ]
  },
  {
   "cell_type": "code",
   "execution_count": 19,
   "id": "c8955f01",
   "metadata": {},
   "outputs": [],
   "source": []
  },
  {
   "cell_type": "code",
   "execution_count": 65,
   "id": "62926e0a",
   "metadata": {},
   "outputs": [],
   "source": [
    "tt = np.linspace(-4*pi , 4*pi , 1000)\n",
    "w = np.linspace(-pi,pi,1000)"
   ]
  },
  {
   "cell_type": "code",
   "execution_count": 78,
   "id": "8445a221",
   "metadata": {},
   "outputs": [],
   "source": [
    "comp = [complex(np.cos(t_t) , np.sin(t_t)) for t_t in tt]"
   ]
  },
  {
   "cell_type": "code",
   "execution_count": 79,
   "id": "68409ef7",
   "metadata": {},
   "outputs": [
    {
     "data": {
      "text/plain": [
       "[<matplotlib.lines.Line2D at 0x2bef2632250>]"
      ]
     },
     "execution_count": 79,
     "metadata": {},
     "output_type": "execute_result"
    },
    {
     "data": {
      "image/png": "[encoded data removed]",
      "text/plain": [
       "<Figure size 640x480 with 1 Axes>"
      ]
     },
     "metadata": {},
     "output_type": "display_data"
    }
   ],
   "source": [
    "plt.plot(np.angle(comp) , \".\")"
   ]
  },
  {
   "cell_type": "code",
   "execution_count": null,
   "id": "06815fbf",
   "metadata": {},
   "outputs": [],
   "source": []
  },
  {
   "cell_type": "code",
   "execution_count": null,
   "id": "70b1f549",
   "metadata": {},
   "outputs": [],
   "source": []
  }
 ],
 "metadata": {
  "kernelspec": {
   "display_name": "Python 3 (ipykernel)",
   "language": "python",
   "name": "python3"
  },
  "language_info": {
   "codemirror_mode": {
    "name": "ipython",
    "version": 3
   },
   "file_extension": ".py",
   "mimetype": "text/x-python",
   "name": "python",
   "nbconvert_exporter": "python",
   "pygments_lexer": "ipython3",
   "version": "3.9.13"
  }
 },
 "nbformat": 4,
 "nbformat_minor": 5
}
